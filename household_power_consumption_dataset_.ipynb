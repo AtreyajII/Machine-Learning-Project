{
  "nbformat": 4,
  "nbformat_minor": 0,
  "metadata": {
    "colab": {
      "provenance": []
    },
    "kernelspec": {
      "name": "python3",
      "display_name": "Python 3"
    },
    "language_info": {
      "name": "python"
    }
  },
  "cells": [
    {
      "cell_type": "code",
      "source": [
        "!pip install datatable"
      ],
      "metadata": {
        "colab": {
          "base_uri": "https://localhost:8080/"
        },
        "id": "I8My5YBuYrB4",
        "outputId": "382ccb05-7062-4a21-89b4-e2b23d1d4c08"
      },
      "execution_count": 1,
      "outputs": [
        {
          "output_type": "stream",
          "name": "stdout",
          "text": [
            "Looking in indexes: https://pypi.org/simple, https://us-python.pkg.dev/colab-wheels/public/simple/\n",
            "Collecting datatable\n",
            "  Downloading datatable-1.0.0-cp38-cp38-manylinux_2_12_x86_64.whl (96.6 MB)\n",
            "\u001b[K     |████████████████████████████████| 96.6 MB 1.1 MB/s \n",
            "\u001b[?25hInstalling collected packages: datatable\n",
            "Successfully installed datatable-1.0.0\n"
          ]
        }
      ]
    },
    {
      "cell_type": "code",
      "source": [
        "import pandas as pd\n",
        "import numpy as np\n",
        "import matplotlib.pyplot as plt\n",
        "import seaborn as sns\n",
        "from sklearn.metrics import mean_squared_error\n",
        "from sklearn.metrics import mean_absolute_error\n",
        "from sklearn.metrics import r2_score\n",
        "import datatable as dt\n",
        "get_ipython().run_line_magic('matplotlib', 'inline')"
      ],
      "metadata": {
        "colab": {
          "base_uri": "https://localhost:8080/",
          "height": 17
        },
        "id": "o9io1f28YrHa",
        "outputId": "692f7944-9fb5-4f2f-99e4-ccd8aa4e0c7e"
      },
      "execution_count": 2,
      "outputs": [
        {
          "output_type": "display_data",
          "data": {
            "text/plain": [
              "<IPython.core.display.HTML object>"
            ],
            "text/html": [
              "<style type='text/css'>\n",
              ".datatable table.frame { margin-bottom: 0; }\n",
              ".datatable table.frame thead { border-bottom: none; }\n",
              ".datatable table.frame tr.coltypes td {  color: #FFFFFF;  line-height: 6px;  padding: 0 0.5em;}\n",
              ".datatable .bool    { background: #DDDD99; }\n",
              ".datatable .object  { background: #565656; }\n",
              ".datatable .int     { background: #5D9E5D; }\n",
              ".datatable .float   { background: #4040CC; }\n",
              ".datatable .str     { background: #CC4040; }\n",
              ".datatable .time    { background: #40CC40; }\n",
              ".datatable .row_index {  background: var(--jp-border-color3);  border-right: 1px solid var(--jp-border-color0);  color: var(--jp-ui-font-color3);  font-size: 9px;}\n",
              ".datatable .frame tbody td { text-align: left; }\n",
              ".datatable .frame tr.coltypes .row_index {  background: var(--jp-border-color0);}\n",
              ".datatable th:nth-child(2) { padding-left: 12px; }\n",
              ".datatable .hellipsis {  color: var(--jp-cell-editor-border-color);}\n",
              ".datatable .vellipsis {  background: var(--jp-layout-color0);  color: var(--jp-cell-editor-border-color);}\n",
              ".datatable .na {  color: var(--jp-cell-editor-border-color);  font-size: 80%;}\n",
              ".datatable .sp {  opacity: 0.25;}\n",
              ".datatable .footer { font-size: 9px; }\n",
              ".datatable .frame_dimensions {  background: var(--jp-border-color3);  border-top: 1px solid var(--jp-border-color0);  color: var(--jp-ui-font-color3);  display: inline-block;  opacity: 0.6;  padding: 1px 10px 1px 5px;}\n",
              ".datatable .frame thead tr.colnames {  background-image: url('data:image/png;base64,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');  background-repeat: repeat-x;  background-size: 14px;  height: 28px;}\n",
              "</style>\n"
            ]
          },
          "metadata": {}
        }
      ]
    },
    {
      "cell_type": "code",
      "source": [
        "datatable_df = dt.fread(\"/content/household_power_consumption.txt\")"
      ],
      "metadata": {
        "id": "ewjF9TtTbj8E"
      },
      "execution_count": 36,
      "outputs": []
    },
    {
      "cell_type": "code",
      "source": [
        "# Convert Datatable into Pandas Dataframe\n",
        "df = datatable_df.to_pandas()"
      ],
      "metadata": {
        "id": "Dbxvg7KMbkBC"
      },
      "execution_count": 37,
      "outputs": []
    },
    {
      "cell_type": "code",
      "source": [
        "df.columns"
      ],
      "metadata": {
        "id": "FgE0gg7bnErn",
        "colab": {
          "base_uri": "https://localhost:8080/"
        },
        "outputId": "660002e7-7570-4800-f886-e0d127368190"
      },
      "execution_count": 38,
      "outputs": [
        {
          "output_type": "execute_result",
          "data": {
            "text/plain": [
              "Index(['Date', 'Time', 'Global_active_power', 'Global_reactive_power',\n",
              "       'Voltage', 'Global_intensity', 'Sub_metering_1', 'Sub_metering_2',\n",
              "       'Sub_metering_3'],\n",
              "      dtype='object')"
            ]
          },
          "metadata": {},
          "execution_count": 38
        }
      ]
    },
    {
      "cell_type": "code",
      "source": [
        "df.shape"
      ],
      "metadata": {
        "id": "pzqu5FfLnEtz",
        "colab": {
          "base_uri": "https://localhost:8080/"
        },
        "outputId": "6ed0166d-7b2e-4258-c7ff-90a9243f0dfa"
      },
      "execution_count": 39,
      "outputs": [
        {
          "output_type": "execute_result",
          "data": {
            "text/plain": [
              "(1026739, 9)"
            ]
          },
          "metadata": {},
          "execution_count": 39
        }
      ]
    },
    {
      "cell_type": "code",
      "source": [
        "# SAMPLING.  Take 100000 samples out of 20752595\n",
        "df=df.sample(100000).reset_index().drop('index',axis=1)"
      ],
      "metadata": {
        "id": "A8vrPbHynExN"
      },
      "execution_count": 40,
      "outputs": []
    },
    {
      "cell_type": "code",
      "source": [
        "df.head()"
      ],
      "metadata": {
        "id": "rZNwgY_tnObJ",
        "colab": {
          "base_uri": "https://localhost:8080/",
          "height": 206
        },
        "outputId": "1c79ece1-500c-4538-d7d8-cd1f34ee8f02"
      },
      "execution_count": 41,
      "outputs": [
        {
          "output_type": "execute_result",
          "data": {
            "text/plain": [
              "        Date      Time Global_active_power Global_reactive_power  Voltage  \\\n",
              "0  15/2/2008  10:34:00               1.410                 0.046  239.130   \n",
              "1  31/8/2008  07:37:00               0.088                 0.000  241.050   \n",
              "2   4/7/2007  11:50:00               0.216                 0.090  238.160   \n",
              "3  15/7/2007  08:49:00               0.390                 0.096  241.460   \n",
              "4  26/5/2008  15:01:00               0.440                 0.156  243.490   \n",
              "\n",
              "  Global_intensity Sub_metering_1 Sub_metering_2  Sub_metering_3  \n",
              "0            5.800          0.000          0.000            18.0  \n",
              "1            0.400          0.000          0.000             1.0  \n",
              "2            1.000          0.000          1.000             0.0  \n",
              "3            1.600          0.000          0.000             0.0  \n",
              "4            2.000          0.000          0.000             0.0  "
            ],
            "text/html": [
              "\n",
              "  <div id=\"df-99525346-7efb-44ad-a0c6-1e79350723da\">\n",
              "    <div class=\"colab-df-container\">\n",
              "      <div>\n",
              "<style scoped>\n",
              "    .dataframe tbody tr th:only-of-type {\n",
              "        vertical-align: middle;\n",
              "    }\n",
              "\n",
              "    .dataframe tbody tr th {\n",
              "        vertical-align: top;\n",
              "    }\n",
              "\n",
              "    .dataframe thead th {\n",
              "        text-align: right;\n",
              "    }\n",
              "</style>\n",
              "<table border=\"1\" class=\"dataframe\">\n",
              "  <thead>\n",
              "    <tr style=\"text-align: right;\">\n",
              "      <th></th>\n",
              "      <th>Date</th>\n",
              "      <th>Time</th>\n",
              "      <th>Global_active_power</th>\n",
              "      <th>Global_reactive_power</th>\n",
              "      <th>Voltage</th>\n",
              "      <th>Global_intensity</th>\n",
              "      <th>Sub_metering_1</th>\n",
              "      <th>Sub_metering_2</th>\n",
              "      <th>Sub_metering_3</th>\n",
              "    </tr>\n",
              "  </thead>\n",
              "  <tbody>\n",
              "    <tr>\n",
              "      <th>0</th>\n",
              "      <td>15/2/2008</td>\n",
              "      <td>10:34:00</td>\n",
              "      <td>1.410</td>\n",
              "      <td>0.046</td>\n",
              "      <td>239.130</td>\n",
              "      <td>5.800</td>\n",
              "      <td>0.000</td>\n",
              "      <td>0.000</td>\n",
              "      <td>18.0</td>\n",
              "    </tr>\n",
              "    <tr>\n",
              "      <th>1</th>\n",
              "      <td>31/8/2008</td>\n",
              "      <td>07:37:00</td>\n",
              "      <td>0.088</td>\n",
              "      <td>0.000</td>\n",
              "      <td>241.050</td>\n",
              "      <td>0.400</td>\n",
              "      <td>0.000</td>\n",
              "      <td>0.000</td>\n",
              "      <td>1.0</td>\n",
              "    </tr>\n",
              "    <tr>\n",
              "      <th>2</th>\n",
              "      <td>4/7/2007</td>\n",
              "      <td>11:50:00</td>\n",
              "      <td>0.216</td>\n",
              "      <td>0.090</td>\n",
              "      <td>238.160</td>\n",
              "      <td>1.000</td>\n",
              "      <td>0.000</td>\n",
              "      <td>1.000</td>\n",
              "      <td>0.0</td>\n",
              "    </tr>\n",
              "    <tr>\n",
              "      <th>3</th>\n",
              "      <td>15/7/2007</td>\n",
              "      <td>08:49:00</td>\n",
              "      <td>0.390</td>\n",
              "      <td>0.096</td>\n",
              "      <td>241.460</td>\n",
              "      <td>1.600</td>\n",
              "      <td>0.000</td>\n",
              "      <td>0.000</td>\n",
              "      <td>0.0</td>\n",
              "    </tr>\n",
              "    <tr>\n",
              "      <th>4</th>\n",
              "      <td>26/5/2008</td>\n",
              "      <td>15:01:00</td>\n",
              "      <td>0.440</td>\n",
              "      <td>0.156</td>\n",
              "      <td>243.490</td>\n",
              "      <td>2.000</td>\n",
              "      <td>0.000</td>\n",
              "      <td>0.000</td>\n",
              "      <td>0.0</td>\n",
              "    </tr>\n",
              "  </tbody>\n",
              "</table>\n",
              "</div>\n",
              "      <button class=\"colab-df-convert\" onclick=\"convertToInteractive('df-99525346-7efb-44ad-a0c6-1e79350723da')\"\n",
              "              title=\"Convert this dataframe to an interactive table.\"\n",
              "              style=\"display:none;\">\n",
              "        \n",
              "  <svg xmlns=\"http://www.w3.org/2000/svg\" height=\"24px\"viewBox=\"0 0 24 24\"\n",
              "       width=\"24px\">\n",
              "    <path d=\"M0 0h24v24H0V0z\" fill=\"none\"/>\n",
              "    <path d=\"M18.56 5.44l.94 2.06.94-2.06 2.06-.94-2.06-.94-.94-2.06-.94 2.06-2.06.94zm-11 1L8.5 8.5l.94-2.06 2.06-.94-2.06-.94L8.5 2.5l-.94 2.06-2.06.94zm10 10l.94 2.06.94-2.06 2.06-.94-2.06-.94-.94-2.06-.94 2.06-2.06.94z\"/><path d=\"M17.41 7.96l-1.37-1.37c-.4-.4-.92-.59-1.43-.59-.52 0-1.04.2-1.43.59L10.3 9.45l-7.72 7.72c-.78.78-.78 2.05 0 2.83L4 21.41c.39.39.9.59 1.41.59.51 0 1.02-.2 1.41-.59l7.78-7.78 2.81-2.81c.8-.78.8-2.07 0-2.86zM5.41 20L4 18.59l7.72-7.72 1.47 1.35L5.41 20z\"/>\n",
              "  </svg>\n",
              "      </button>\n",
              "      \n",
              "  <style>\n",
              "    .colab-df-container {\n",
              "      display:flex;\n",
              "      flex-wrap:wrap;\n",
              "      gap: 12px;\n",
              "    }\n",
              "\n",
              "    .colab-df-convert {\n",
              "      background-color: #E8F0FE;\n",
              "      border: none;\n",
              "      border-radius: 50%;\n",
              "      cursor: pointer;\n",
              "      display: none;\n",
              "      fill: #1967D2;\n",
              "      height: 32px;\n",
              "      padding: 0 0 0 0;\n",
              "      width: 32px;\n",
              "    }\n",
              "\n",
              "    .colab-df-convert:hover {\n",
              "      background-color: #E2EBFA;\n",
              "      box-shadow: 0px 1px 2px rgba(60, 64, 67, 0.3), 0px 1px 3px 1px rgba(60, 64, 67, 0.15);\n",
              "      fill: #174EA6;\n",
              "    }\n",
              "\n",
              "    [theme=dark] .colab-df-convert {\n",
              "      background-color: #3B4455;\n",
              "      fill: #D2E3FC;\n",
              "    }\n",
              "\n",
              "    [theme=dark] .colab-df-convert:hover {\n",
              "      background-color: #434B5C;\n",
              "      box-shadow: 0px 1px 3px 1px rgba(0, 0, 0, 0.15);\n",
              "      filter: drop-shadow(0px 1px 2px rgba(0, 0, 0, 0.3));\n",
              "      fill: #FFFFFF;\n",
              "    }\n",
              "  </style>\n",
              "\n",
              "      <script>\n",
              "        const buttonEl =\n",
              "          document.querySelector('#df-99525346-7efb-44ad-a0c6-1e79350723da button.colab-df-convert');\n",
              "        buttonEl.style.display =\n",
              "          google.colab.kernel.accessAllowed ? 'block' : 'none';\n",
              "\n",
              "        async function convertToInteractive(key) {\n",
              "          const element = document.querySelector('#df-99525346-7efb-44ad-a0c6-1e79350723da');\n",
              "          const dataTable =\n",
              "            await google.colab.kernel.invokeFunction('convertToInteractive',\n",
              "                                                     [key], {});\n",
              "          if (!dataTable) return;\n",
              "\n",
              "          const docLinkHtml = 'Like what you see? Visit the ' +\n",
              "            '<a target=\"_blank\" href=https://colab.research.google.com/notebooks/data_table.ipynb>data table notebook</a>'\n",
              "            + ' to learn more about interactive tables.';\n",
              "          element.innerHTML = '';\n",
              "          dataTable['output_type'] = 'display_data';\n",
              "          await google.colab.output.renderOutput(dataTable, element);\n",
              "          const docLink = document.createElement('div');\n",
              "          docLink.innerHTML = docLinkHtml;\n",
              "          element.appendChild(docLink);\n",
              "        }\n",
              "      </script>\n",
              "    </div>\n",
              "  </div>\n",
              "  "
            ]
          },
          "metadata": {},
          "execution_count": 41
        }
      ]
    },
    {
      "cell_type": "code",
      "source": [
        "'''from google.colab import files\n",
        "df.to_csv('household_power_consumption_100000_samples.csv')\n",
        "files.download('household_power_consumption_100000_samples.csv')'''\n",
        "\n",
        "\n",
        "url = 'https://raw.githubusercontent.com/subhashdixit/Regression_Model_Tasks/main/Household_Power_Consumption_Regression_Problem/household_power_consumption_100000_samples.csv'\n",
        "df = pd.read_csv(url)"
      ],
      "metadata": {
        "id": "Uiaut3KSnOdY"
      },
      "execution_count": 42,
      "outputs": []
    },
    {
      "cell_type": "code",
      "source": [
        "# Read Data From GitHub\n",
        "url = 'https://raw.githubusercontent.com/subhashdixit/Regression_Model_Tasks/main/Household_Power_Consumption_Regression_Problem/household_power_consumption_100000_samples.csv'\n",
        "df = pd.read_csv(url)"
      ],
      "metadata": {
        "id": "bMS3x7XfcPHF"
      },
      "execution_count": 43,
      "outputs": []
    },
    {
      "cell_type": "code",
      "source": [
        "df.head()"
      ],
      "metadata": {
        "id": "dWPxBlvDnOgR",
        "colab": {
          "base_uri": "https://localhost:8080/",
          "height": 206
        },
        "outputId": "d496b6cf-0737-4a4d-83c5-f6bca9e0d0c1"
      },
      "execution_count": 44,
      "outputs": [
        {
          "output_type": "execute_result",
          "data": {
            "text/plain": [
              "   Unnamed: 0       Date      Time Global_active_power Global_reactive_power  \\\n",
              "0           0  23/9/2007  20:53:00               4.548                 0.048   \n",
              "1           1  16/6/2008  05:44:00               0.332                 0.266   \n",
              "2           2  20/7/2010  11:26:00               0.456                 0.300   \n",
              "3           3  21/5/2008  07:58:00               1.402                 0.110   \n",
              "4           4  16/6/2007  13:07:00               1.662                 0.114   \n",
              "\n",
              "   Voltage Global_intensity Sub_metering_1 Sub_metering_2  Sub_metering_3  \n",
              "0  233.920           19.400         36.000          0.000            17.0  \n",
              "1  240.490            1.800          0.000          1.000             1.0  \n",
              "2  241.510            2.400          0.000          0.000             0.0  \n",
              "3  238.880            5.800          0.000          0.000            18.0  \n",
              "4  240.190            7.000          0.000          1.000            17.0  "
            ],
            "text/html": [
              "\n",
              "  <div id=\"df-691dbc39-5c98-445e-a183-0a518a3790f8\">\n",
              "    <div class=\"colab-df-container\">\n",
              "      <div>\n",
              "<style scoped>\n",
              "    .dataframe tbody tr th:only-of-type {\n",
              "        vertical-align: middle;\n",
              "    }\n",
              "\n",
              "    .dataframe tbody tr th {\n",
              "        vertical-align: top;\n",
              "    }\n",
              "\n",
              "    .dataframe thead th {\n",
              "        text-align: right;\n",
              "    }\n",
              "</style>\n",
              "<table border=\"1\" class=\"dataframe\">\n",
              "  <thead>\n",
              "    <tr style=\"text-align: right;\">\n",
              "      <th></th>\n",
              "      <th>Unnamed: 0</th>\n",
              "      <th>Date</th>\n",
              "      <th>Time</th>\n",
              "      <th>Global_active_power</th>\n",
              "      <th>Global_reactive_power</th>\n",
              "      <th>Voltage</th>\n",
              "      <th>Global_intensity</th>\n",
              "      <th>Sub_metering_1</th>\n",
              "      <th>Sub_metering_2</th>\n",
              "      <th>Sub_metering_3</th>\n",
              "    </tr>\n",
              "  </thead>\n",
              "  <tbody>\n",
              "    <tr>\n",
              "      <th>0</th>\n",
              "      <td>0</td>\n",
              "      <td>23/9/2007</td>\n",
              "      <td>20:53:00</td>\n",
              "      <td>4.548</td>\n",
              "      <td>0.048</td>\n",
              "      <td>233.920</td>\n",
              "      <td>19.400</td>\n",
              "      <td>36.000</td>\n",
              "      <td>0.000</td>\n",
              "      <td>17.0</td>\n",
              "    </tr>\n",
              "    <tr>\n",
              "      <th>1</th>\n",
              "      <td>1</td>\n",
              "      <td>16/6/2008</td>\n",
              "      <td>05:44:00</td>\n",
              "      <td>0.332</td>\n",
              "      <td>0.266</td>\n",
              "      <td>240.490</td>\n",
              "      <td>1.800</td>\n",
              "      <td>0.000</td>\n",
              "      <td>1.000</td>\n",
              "      <td>1.0</td>\n",
              "    </tr>\n",
              "    <tr>\n",
              "      <th>2</th>\n",
              "      <td>2</td>\n",
              "      <td>20/7/2010</td>\n",
              "      <td>11:26:00</td>\n",
              "      <td>0.456</td>\n",
              "      <td>0.300</td>\n",
              "      <td>241.510</td>\n",
              "      <td>2.400</td>\n",
              "      <td>0.000</td>\n",
              "      <td>0.000</td>\n",
              "      <td>0.0</td>\n",
              "    </tr>\n",
              "    <tr>\n",
              "      <th>3</th>\n",
              "      <td>3</td>\n",
              "      <td>21/5/2008</td>\n",
              "      <td>07:58:00</td>\n",
              "      <td>1.402</td>\n",
              "      <td>0.110</td>\n",
              "      <td>238.880</td>\n",
              "      <td>5.800</td>\n",
              "      <td>0.000</td>\n",
              "      <td>0.000</td>\n",
              "      <td>18.0</td>\n",
              "    </tr>\n",
              "    <tr>\n",
              "      <th>4</th>\n",
              "      <td>4</td>\n",
              "      <td>16/6/2007</td>\n",
              "      <td>13:07:00</td>\n",
              "      <td>1.662</td>\n",
              "      <td>0.114</td>\n",
              "      <td>240.190</td>\n",
              "      <td>7.000</td>\n",
              "      <td>0.000</td>\n",
              "      <td>1.000</td>\n",
              "      <td>17.0</td>\n",
              "    </tr>\n",
              "  </tbody>\n",
              "</table>\n",
              "</div>\n",
              "      <button class=\"colab-df-convert\" onclick=\"convertToInteractive('df-691dbc39-5c98-445e-a183-0a518a3790f8')\"\n",
              "              title=\"Convert this dataframe to an interactive table.\"\n",
              "              style=\"display:none;\">\n",
              "        \n",
              "  <svg xmlns=\"http://www.w3.org/2000/svg\" height=\"24px\"viewBox=\"0 0 24 24\"\n",
              "       width=\"24px\">\n",
              "    <path d=\"M0 0h24v24H0V0z\" fill=\"none\"/>\n",
              "    <path d=\"M18.56 5.44l.94 2.06.94-2.06 2.06-.94-2.06-.94-.94-2.06-.94 2.06-2.06.94zm-11 1L8.5 8.5l.94-2.06 2.06-.94-2.06-.94L8.5 2.5l-.94 2.06-2.06.94zm10 10l.94 2.06.94-2.06 2.06-.94-2.06-.94-.94-2.06-.94 2.06-2.06.94z\"/><path d=\"M17.41 7.96l-1.37-1.37c-.4-.4-.92-.59-1.43-.59-.52 0-1.04.2-1.43.59L10.3 9.45l-7.72 7.72c-.78.78-.78 2.05 0 2.83L4 21.41c.39.39.9.59 1.41.59.51 0 1.02-.2 1.41-.59l7.78-7.78 2.81-2.81c.8-.78.8-2.07 0-2.86zM5.41 20L4 18.59l7.72-7.72 1.47 1.35L5.41 20z\"/>\n",
              "  </svg>\n",
              "      </button>\n",
              "      \n",
              "  <style>\n",
              "    .colab-df-container {\n",
              "      display:flex;\n",
              "      flex-wrap:wrap;\n",
              "      gap: 12px;\n",
              "    }\n",
              "\n",
              "    .colab-df-convert {\n",
              "      background-color: #E8F0FE;\n",
              "      border: none;\n",
              "      border-radius: 50%;\n",
              "      cursor: pointer;\n",
              "      display: none;\n",
              "      fill: #1967D2;\n",
              "      height: 32px;\n",
              "      padding: 0 0 0 0;\n",
              "      width: 32px;\n",
              "    }\n",
              "\n",
              "    .colab-df-convert:hover {\n",
              "      background-color: #E2EBFA;\n",
              "      box-shadow: 0px 1px 2px rgba(60, 64, 67, 0.3), 0px 1px 3px 1px rgba(60, 64, 67, 0.15);\n",
              "      fill: #174EA6;\n",
              "    }\n",
              "\n",
              "    [theme=dark] .colab-df-convert {\n",
              "      background-color: #3B4455;\n",
              "      fill: #D2E3FC;\n",
              "    }\n",
              "\n",
              "    [theme=dark] .colab-df-convert:hover {\n",
              "      background-color: #434B5C;\n",
              "      box-shadow: 0px 1px 3px 1px rgba(0, 0, 0, 0.15);\n",
              "      filter: drop-shadow(0px 1px 2px rgba(0, 0, 0, 0.3));\n",
              "      fill: #FFFFFF;\n",
              "    }\n",
              "  </style>\n",
              "\n",
              "      <script>\n",
              "        const buttonEl =\n",
              "          document.querySelector('#df-691dbc39-5c98-445e-a183-0a518a3790f8 button.colab-df-convert');\n",
              "        buttonEl.style.display =\n",
              "          google.colab.kernel.accessAllowed ? 'block' : 'none';\n",
              "\n",
              "        async function convertToInteractive(key) {\n",
              "          const element = document.querySelector('#df-691dbc39-5c98-445e-a183-0a518a3790f8');\n",
              "          const dataTable =\n",
              "            await google.colab.kernel.invokeFunction('convertToInteractive',\n",
              "                                                     [key], {});\n",
              "          if (!dataTable) return;\n",
              "\n",
              "          const docLinkHtml = 'Like what you see? Visit the ' +\n",
              "            '<a target=\"_blank\" href=https://colab.research.google.com/notebooks/data_table.ipynb>data table notebook</a>'\n",
              "            + ' to learn more about interactive tables.';\n",
              "          element.innerHTML = '';\n",
              "          dataTable['output_type'] = 'display_data';\n",
              "          await google.colab.output.renderOutput(dataTable, element);\n",
              "          const docLink = document.createElement('div');\n",
              "          docLink.innerHTML = docLinkHtml;\n",
              "          element.appendChild(docLink);\n",
              "        }\n",
              "      </script>\n",
              "    </div>\n",
              "  </div>\n",
              "  "
            ]
          },
          "metadata": {},
          "execution_count": 44
        }
      ]
    },
    {
      "cell_type": "code",
      "source": [
        "df.columns"
      ],
      "metadata": {
        "id": "v9M2Pcl4nOjs",
        "colab": {
          "base_uri": "https://localhost:8080/"
        },
        "outputId": "2c748c59-bded-4ec2-d090-16cddbbb1c95"
      },
      "execution_count": 45,
      "outputs": [
        {
          "output_type": "execute_result",
          "data": {
            "text/plain": [
              "Index(['Unnamed: 0', 'Date', 'Time', 'Global_active_power',\n",
              "       'Global_reactive_power', 'Voltage', 'Global_intensity',\n",
              "       'Sub_metering_1', 'Sub_metering_2', 'Sub_metering_3'],\n",
              "      dtype='object')"
            ]
          },
          "metadata": {},
          "execution_count": 45
        }
      ]
    },
    {
      "cell_type": "code",
      "source": [
        "# Drop \"Unnamed: 0\" column because it is of no use\n",
        "df.drop(['Unnamed: 0'], axis = 1, inplace = True)"
      ],
      "metadata": {
        "id": "LqaLDrTLnOmi"
      },
      "execution_count": 46,
      "outputs": []
    },
    {
      "cell_type": "code",
      "source": [
        "df.info()"
      ],
      "metadata": {
        "id": "n5jBfOF5nOon",
        "colab": {
          "base_uri": "https://localhost:8080/"
        },
        "outputId": "39dd835c-2d77-4533-fa43-d174e69b50ef"
      },
      "execution_count": 47,
      "outputs": [
        {
          "output_type": "stream",
          "name": "stdout",
          "text": [
            "<class 'pandas.core.frame.DataFrame'>\n",
            "RangeIndex: 100000 entries, 0 to 99999\n",
            "Data columns (total 9 columns):\n",
            " #   Column                 Non-Null Count   Dtype  \n",
            "---  ------                 --------------   -----  \n",
            " 0   Date                   100000 non-null  object \n",
            " 1   Time                   100000 non-null  object \n",
            " 2   Global_active_power    100000 non-null  object \n",
            " 3   Global_reactive_power  100000 non-null  object \n",
            " 4   Voltage                100000 non-null  object \n",
            " 5   Global_intensity       100000 non-null  object \n",
            " 6   Sub_metering_1         100000 non-null  object \n",
            " 7   Sub_metering_2         100000 non-null  object \n",
            " 8   Sub_metering_3         98733 non-null   float64\n",
            "dtypes: float64(1), object(8)\n",
            "memory usage: 6.9+ MB\n"
          ]
        }
      ]
    },
    {
      "cell_type": "code",
      "source": [
        "df['Date'] = pd.to_datetime(df['Date'])"
      ],
      "metadata": {
        "id": "biEm6i6fnOq9"
      },
      "execution_count": 48,
      "outputs": []
    },
    {
      "cell_type": "code",
      "source": [
        "df.columns"
      ],
      "metadata": {
        "id": "pRpM_he_nwex",
        "colab": {
          "base_uri": "https://localhost:8080/"
        },
        "outputId": "a795325e-868e-4c01-bf39-76f237eca50d"
      },
      "execution_count": 49,
      "outputs": [
        {
          "output_type": "execute_result",
          "data": {
            "text/plain": [
              "Index(['Date', 'Time', 'Global_active_power', 'Global_reactive_power',\n",
              "       'Voltage', 'Global_intensity', 'Sub_metering_1', 'Sub_metering_2',\n",
              "       'Sub_metering_3'],\n",
              "      dtype='object')"
            ]
          },
          "metadata": {},
          "execution_count": 49
        }
      ]
    },
    {
      "cell_type": "code",
      "source": [
        "df.drop(['Time'], axis = 1, inplace = True)"
      ],
      "metadata": {
        "id": "LGWWx3iLnwhj"
      },
      "execution_count": 50,
      "outputs": []
    },
    {
      "cell_type": "code",
      "source": [
        "df.head"
      ],
      "metadata": {
        "id": "86kY1G2cnwk9",
        "colab": {
          "base_uri": "https://localhost:8080/"
        },
        "outputId": "e076dbfd-bd9e-4aef-c3e5-09c720b6deea"
      },
      "execution_count": 51,
      "outputs": [
        {
          "output_type": "execute_result",
          "data": {
            "text/plain": [
              "<bound method NDFrame.head of             Date Global_active_power Global_reactive_power  Voltage  \\\n",
              "0     2007-09-23               4.548                 0.048  233.920   \n",
              "1     2008-06-16               0.332                 0.266  240.490   \n",
              "2     2010-07-20               0.456                 0.300  241.510   \n",
              "3     2008-05-21               1.402                 0.110  238.880   \n",
              "4     2007-06-16               1.662                 0.114  240.190   \n",
              "...          ...                 ...                   ...      ...   \n",
              "99995 2009-07-25               0.718                 0.152  243.390   \n",
              "99996 2007-05-18               5.974                 0.322  227.950   \n",
              "99997 2009-11-03               3.618                 0.160  243.050   \n",
              "99998 2009-12-15               1.518                 0.000  247.670   \n",
              "99999 2008-02-13               0.350                 0.134  244.620   \n",
              "\n",
              "      Global_intensity Sub_metering_1 Sub_metering_2  Sub_metering_3  \n",
              "0               19.400         36.000          0.000            17.0  \n",
              "1                1.800          0.000          1.000             1.0  \n",
              "2                2.400          0.000          0.000             0.0  \n",
              "3                5.800          0.000          0.000            18.0  \n",
              "4                7.000          0.000          1.000            17.0  \n",
              "...                ...            ...            ...             ...  \n",
              "99995            3.000          0.000          0.000            10.0  \n",
              "99996           26.200         36.000          3.000            16.0  \n",
              "99997           15.000          0.000         31.000            19.0  \n",
              "99998            6.000          0.000          0.000            20.0  \n",
              "99999            1.400          0.000          0.000             0.0  \n",
              "\n",
              "[100000 rows x 8 columns]>"
            ]
          },
          "metadata": {},
          "execution_count": 51
        }
      ]
    },
    {
      "cell_type": "code",
      "source": [
        "df.isnull().sum()"
      ],
      "metadata": {
        "id": "qV7dbG3JnOuW",
        "colab": {
          "base_uri": "https://localhost:8080/"
        },
        "outputId": "aee3d6b8-775b-4371-c11c-bb809ade78c4"
      },
      "execution_count": 52,
      "outputs": [
        {
          "output_type": "execute_result",
          "data": {
            "text/plain": [
              "Date                        0\n",
              "Global_active_power         0\n",
              "Global_reactive_power       0\n",
              "Voltage                     0\n",
              "Global_intensity            0\n",
              "Sub_metering_1              0\n",
              "Sub_metering_2              0\n",
              "Sub_metering_3           1267\n",
              "dtype: int64"
            ]
          },
          "metadata": {},
          "execution_count": 52
        }
      ]
    },
    {
      "cell_type": "code",
      "source": [
        "df.duplicated().sum()"
      ],
      "metadata": {
        "id": "wbRG_theoI4V",
        "colab": {
          "base_uri": "https://localhost:8080/"
        },
        "outputId": "c4ed38b8-2096-41ff-916c-4e7eaa67cf12"
      },
      "execution_count": 53,
      "outputs": [
        {
          "output_type": "execute_result",
          "data": {
            "text/plain": [
              "1326"
            ]
          },
          "metadata": {},
          "execution_count": 53
        }
      ]
    },
    {
      "cell_type": "code",
      "source": [
        "df.drop_duplicates(inplace = True)"
      ],
      "metadata": {
        "id": "pkPGRPCuoI6-"
      },
      "execution_count": 54,
      "outputs": []
    },
    {
      "cell_type": "code",
      "source": [
        "df.columns"
      ],
      "metadata": {
        "id": "SO2ulRwRoOV0",
        "colab": {
          "base_uri": "https://localhost:8080/"
        },
        "outputId": "cb5e84b7-92bb-42f7-97e2-025418e9a60e"
      },
      "execution_count": 55,
      "outputs": [
        {
          "output_type": "execute_result",
          "data": {
            "text/plain": [
              "Index(['Date', 'Global_active_power', 'Global_reactive_power', 'Voltage',\n",
              "       'Global_intensity', 'Sub_metering_1', 'Sub_metering_2',\n",
              "       'Sub_metering_3'],\n",
              "      dtype='object')"
            ]
          },
          "metadata": {},
          "execution_count": 55
        }
      ]
    },
    {
      "cell_type": "code",
      "source": [
        "df['Sub_metering_1'].unique()"
      ],
      "metadata": {
        "id": "9UlmjHe6oOYZ",
        "colab": {
          "base_uri": "https://localhost:8080/"
        },
        "outputId": "340f4e5d-98f5-4908-f4f2-fc77d5db949b"
      },
      "execution_count": 56,
      "outputs": [
        {
          "output_type": "execute_result",
          "data": {
            "text/plain": [
              "array(['36.000', '0.000', '2.000', '?', '3.000', '1.000', '37.000',\n",
              "       '12.000', '13.000', '7.000', '33.000', '38.000', '39.000', '0.0',\n",
              "       '40.000', '19.000', '31.000', '14.000', '29.000', '42.000',\n",
              "       '35.000', '8.000', '5.000', '27.000', '18.000', '10.000', '16.000',\n",
              "       '1.0', '9.000', '6.000', '21.000', '25.000', '43.000', '34.000',\n",
              "       '52.000', '22.000', '11.000', '49.000', '41.000', '51.000',\n",
              "       '24.000', '32.000', '44.000', '23.000', '47.000', '30.000',\n",
              "       '15.000', '76.000', '53.000', '26.000', '20.000', '37.0', '28.000',\n",
              "       '17.000', '2.0', '4.000', '45.000', '79.000', '38.0', '48.000',\n",
              "       '78.000', '73.000', '75.000', '12.0', '74.000', '77.000', '46.000',\n",
              "       '70.000', '54.000', '71.000', '67.000', '50.000', '60.000',\n",
              "       '72.000', '9.0', '55.000'], dtype=object)"
            ]
          },
          "metadata": {},
          "execution_count": 56
        }
      ]
    },
    {
      "cell_type": "code",
      "source": [
        "df.replace('?', np.nan, inplace=True)"
      ],
      "metadata": {
        "id": "tb-LH0iwoOa_"
      },
      "execution_count": 57,
      "outputs": []
    },
    {
      "cell_type": "code",
      "source": [
        "df.isnull().sum()"
      ],
      "metadata": {
        "id": "PmSiARl3oOdl",
        "colab": {
          "base_uri": "https://localhost:8080/"
        },
        "outputId": "86bc4219-0187-40e3-d6e4-093222af436c"
      },
      "execution_count": 58,
      "outputs": [
        {
          "output_type": "execute_result",
          "data": {
            "text/plain": [
              "Date                      0\n",
              "Global_active_power      29\n",
              "Global_reactive_power    29\n",
              "Voltage                  29\n",
              "Global_intensity         29\n",
              "Sub_metering_1           29\n",
              "Sub_metering_2           29\n",
              "Sub_metering_3           29\n",
              "dtype: int64"
            ]
          },
          "metadata": {},
          "execution_count": 58
        }
      ]
    },
    {
      "cell_type": "code",
      "source": [
        "df.fillna(df.median().round(1), inplace=True)"
      ],
      "metadata": {
        "id": "ef9AphPgoOhU",
        "colab": {
          "base_uri": "https://localhost:8080/"
        },
        "outputId": "6107199d-cf43-49a9-fdf1-c3bb8cc62df3"
      },
      "execution_count": 59,
      "outputs": [
        {
          "output_type": "stream",
          "name": "stderr",
          "text": [
            "<ipython-input-59-8e2a8cac0699>:1: FutureWarning: DataFrame.mean and DataFrame.median with numeric_only=None will include datetime64 and datetime64tz columns in a future version.\n",
            "  df.fillna(df.median().round(1), inplace=True)\n"
          ]
        }
      ]
    },
    {
      "cell_type": "code",
      "source": [
        "df.isnull().sum()"
      ],
      "metadata": {
        "id": "PG0NsyUdoatV",
        "colab": {
          "base_uri": "https://localhost:8080/"
        },
        "outputId": "af6ab411-a390-46b4-df8f-b25aa097cfbd"
      },
      "execution_count": 60,
      "outputs": [
        {
          "output_type": "execute_result",
          "data": {
            "text/plain": [
              "Date                     0\n",
              "Global_active_power      0\n",
              "Global_reactive_power    0\n",
              "Voltage                  0\n",
              "Global_intensity         0\n",
              "Sub_metering_1           0\n",
              "Sub_metering_2           0\n",
              "Sub_metering_3           0\n",
              "dtype: int64"
            ]
          },
          "metadata": {},
          "execution_count": 60
        }
      ]
    },
    {
      "cell_type": "code",
      "source": [
        "conversion = {'Global_active_power' : 'float64', 'Global_reactive_power'  : 'float64', 'Voltage' : 'float64',\n",
        "       'Global_intensity' : 'float64', 'Sub_metering_1' : 'float64', 'Sub_metering_2' : 'float64',\n",
        "       'Sub_metering_3' : 'float64'}\n",
        "df = df.astype(conversion)"
      ],
      "metadata": {
        "id": "vV4GHgYGoav7"
      },
      "execution_count": 61,
      "outputs": []
    },
    {
      "cell_type": "code",
      "source": [
        "df= df.groupby('Date').sum()"
      ],
      "metadata": {
        "id": "6K6Sm4L2oazj"
      },
      "execution_count": 62,
      "outputs": []
    },
    {
      "cell_type": "code",
      "source": [
        "df.reset_index(inplace = True)"
      ],
      "metadata": {
        "id": "36OXrf9roI-a"
      },
      "execution_count": 63,
      "outputs": []
    },
    {
      "cell_type": "code",
      "source": [
        "df['year']=df['Date'].dt.year\n",
        "df['month']=df['Date'].dt.month"
      ],
      "metadata": {
        "id": "ZV8LJ9nqolqm"
      },
      "execution_count": 64,
      "outputs": []
    },
    {
      "cell_type": "code",
      "source": [
        "df.groupby('year').sum()"
      ],
      "metadata": {
        "id": "ioABAd2coltJ",
        "colab": {
          "base_uri": "https://localhost:8080/",
          "height": 237
        },
        "outputId": "129fbd22-cf4f-4cee-8139-a87c585541ed"
      },
      "execution_count": 65,
      "outputs": [
        {
          "output_type": "execute_result",
          "data": {
            "text/plain": [
              "      Global_active_power  Global_reactive_power     Voltage  \\\n",
              "year                                                           \n",
              "2006             2089.234                145.794   266246.20   \n",
              "2007            27957.188               2934.968  6027954.66   \n",
              "2008            27071.242               2976.926  6106965.96   \n",
              "2009            26949.936               3304.990  6048416.02   \n",
              "2010            23385.046               2868.562  5315537.51   \n",
              "\n",
              "      Global_intensity  Sub_metering_1  Sub_metering_2  Sub_metering_3  month  \n",
              "year                                                                           \n",
              "2006            8834.6          1319.0          2443.0          7970.0    192  \n",
              "2007          119263.0         32306.0         41834.0        144128.0   2382  \n",
              "2008          114932.4         27497.0         32388.0        152030.0   2384  \n",
              "2009          113869.4         27616.0         27921.0        171180.0   2382  \n",
              "2010           98737.0         21101.0         24204.0        158865.0   2032  "
            ],
            "text/html": [
              "\n",
              "  <div id=\"df-57c4f7bd-309d-4e89-8bd9-62a5485725cc\">\n",
              "    <div class=\"colab-df-container\">\n",
              "      <div>\n",
              "<style scoped>\n",
              "    .dataframe tbody tr th:only-of-type {\n",
              "        vertical-align: middle;\n",
              "    }\n",
              "\n",
              "    .dataframe tbody tr th {\n",
              "        vertical-align: top;\n",
              "    }\n",
              "\n",
              "    .dataframe thead th {\n",
              "        text-align: right;\n",
              "    }\n",
              "</style>\n",
              "<table border=\"1\" class=\"dataframe\">\n",
              "  <thead>\n",
              "    <tr style=\"text-align: right;\">\n",
              "      <th></th>\n",
              "      <th>Global_active_power</th>\n",
              "      <th>Global_reactive_power</th>\n",
              "      <th>Voltage</th>\n",
              "      <th>Global_intensity</th>\n",
              "      <th>Sub_metering_1</th>\n",
              "      <th>Sub_metering_2</th>\n",
              "      <th>Sub_metering_3</th>\n",
              "      <th>month</th>\n",
              "    </tr>\n",
              "    <tr>\n",
              "      <th>year</th>\n",
              "      <th></th>\n",
              "      <th></th>\n",
              "      <th></th>\n",
              "      <th></th>\n",
              "      <th></th>\n",
              "      <th></th>\n",
              "      <th></th>\n",
              "      <th></th>\n",
              "    </tr>\n",
              "  </thead>\n",
              "  <tbody>\n",
              "    <tr>\n",
              "      <th>2006</th>\n",
              "      <td>2089.234</td>\n",
              "      <td>145.794</td>\n",
              "      <td>266246.20</td>\n",
              "      <td>8834.6</td>\n",
              "      <td>1319.0</td>\n",
              "      <td>2443.0</td>\n",
              "      <td>7970.0</td>\n",
              "      <td>192</td>\n",
              "    </tr>\n",
              "    <tr>\n",
              "      <th>2007</th>\n",
              "      <td>27957.188</td>\n",
              "      <td>2934.968</td>\n",
              "      <td>6027954.66</td>\n",
              "      <td>119263.0</td>\n",
              "      <td>32306.0</td>\n",
              "      <td>41834.0</td>\n",
              "      <td>144128.0</td>\n",
              "      <td>2382</td>\n",
              "    </tr>\n",
              "    <tr>\n",
              "      <th>2008</th>\n",
              "      <td>27071.242</td>\n",
              "      <td>2976.926</td>\n",
              "      <td>6106965.96</td>\n",
              "      <td>114932.4</td>\n",
              "      <td>27497.0</td>\n",
              "      <td>32388.0</td>\n",
              "      <td>152030.0</td>\n",
              "      <td>2384</td>\n",
              "    </tr>\n",
              "    <tr>\n",
              "      <th>2009</th>\n",
              "      <td>26949.936</td>\n",
              "      <td>3304.990</td>\n",
              "      <td>6048416.02</td>\n",
              "      <td>113869.4</td>\n",
              "      <td>27616.0</td>\n",
              "      <td>27921.0</td>\n",
              "      <td>171180.0</td>\n",
              "      <td>2382</td>\n",
              "    </tr>\n",
              "    <tr>\n",
              "      <th>2010</th>\n",
              "      <td>23385.046</td>\n",
              "      <td>2868.562</td>\n",
              "      <td>5315537.51</td>\n",
              "      <td>98737.0</td>\n",
              "      <td>21101.0</td>\n",
              "      <td>24204.0</td>\n",
              "      <td>158865.0</td>\n",
              "      <td>2032</td>\n",
              "    </tr>\n",
              "  </tbody>\n",
              "</table>\n",
              "</div>\n",
              "      <button class=\"colab-df-convert\" onclick=\"convertToInteractive('df-57c4f7bd-309d-4e89-8bd9-62a5485725cc')\"\n",
              "              title=\"Convert this dataframe to an interactive table.\"\n",
              "              style=\"display:none;\">\n",
              "        \n",
              "  <svg xmlns=\"http://www.w3.org/2000/svg\" height=\"24px\"viewBox=\"0 0 24 24\"\n",
              "       width=\"24px\">\n",
              "    <path d=\"M0 0h24v24H0V0z\" fill=\"none\"/>\n",
              "    <path d=\"M18.56 5.44l.94 2.06.94-2.06 2.06-.94-2.06-.94-.94-2.06-.94 2.06-2.06.94zm-11 1L8.5 8.5l.94-2.06 2.06-.94-2.06-.94L8.5 2.5l-.94 2.06-2.06.94zm10 10l.94 2.06.94-2.06 2.06-.94-2.06-.94-.94-2.06-.94 2.06-2.06.94z\"/><path d=\"M17.41 7.96l-1.37-1.37c-.4-.4-.92-.59-1.43-.59-.52 0-1.04.2-1.43.59L10.3 9.45l-7.72 7.72c-.78.78-.78 2.05 0 2.83L4 21.41c.39.39.9.59 1.41.59.51 0 1.02-.2 1.41-.59l7.78-7.78 2.81-2.81c.8-.78.8-2.07 0-2.86zM5.41 20L4 18.59l7.72-7.72 1.47 1.35L5.41 20z\"/>\n",
              "  </svg>\n",
              "      </button>\n",
              "      \n",
              "  <style>\n",
              "    .colab-df-container {\n",
              "      display:flex;\n",
              "      flex-wrap:wrap;\n",
              "      gap: 12px;\n",
              "    }\n",
              "\n",
              "    .colab-df-convert {\n",
              "      background-color: #E8F0FE;\n",
              "      border: none;\n",
              "      border-radius: 50%;\n",
              "      cursor: pointer;\n",
              "      display: none;\n",
              "      fill: #1967D2;\n",
              "      height: 32px;\n",
              "      padding: 0 0 0 0;\n",
              "      width: 32px;\n",
              "    }\n",
              "\n",
              "    .colab-df-convert:hover {\n",
              "      background-color: #E2EBFA;\n",
              "      box-shadow: 0px 1px 2px rgba(60, 64, 67, 0.3), 0px 1px 3px 1px rgba(60, 64, 67, 0.15);\n",
              "      fill: #174EA6;\n",
              "    }\n",
              "\n",
              "    [theme=dark] .colab-df-convert {\n",
              "      background-color: #3B4455;\n",
              "      fill: #D2E3FC;\n",
              "    }\n",
              "\n",
              "    [theme=dark] .colab-df-convert:hover {\n",
              "      background-color: #434B5C;\n",
              "      box-shadow: 0px 1px 3px 1px rgba(0, 0, 0, 0.15);\n",
              "      filter: drop-shadow(0px 1px 2px rgba(0, 0, 0, 0.3));\n",
              "      fill: #FFFFFF;\n",
              "    }\n",
              "  </style>\n",
              "\n",
              "      <script>\n",
              "        const buttonEl =\n",
              "          document.querySelector('#df-57c4f7bd-309d-4e89-8bd9-62a5485725cc button.colab-df-convert');\n",
              "        buttonEl.style.display =\n",
              "          google.colab.kernel.accessAllowed ? 'block' : 'none';\n",
              "\n",
              "        async function convertToInteractive(key) {\n",
              "          const element = document.querySelector('#df-57c4f7bd-309d-4e89-8bd9-62a5485725cc');\n",
              "          const dataTable =\n",
              "            await google.colab.kernel.invokeFunction('convertToInteractive',\n",
              "                                                     [key], {});\n",
              "          if (!dataTable) return;\n",
              "\n",
              "          const docLinkHtml = 'Like what you see? Visit the ' +\n",
              "            '<a target=\"_blank\" href=https://colab.research.google.com/notebooks/data_table.ipynb>data table notebook</a>'\n",
              "            + ' to learn more about interactive tables.';\n",
              "          element.innerHTML = '';\n",
              "          dataTable['output_type'] = 'display_data';\n",
              "          await google.colab.output.renderOutput(dataTable, element);\n",
              "          const docLink = document.createElement('div');\n",
              "          docLink.innerHTML = docLinkHtml;\n",
              "          element.appendChild(docLink);\n",
              "        }\n",
              "      </script>\n",
              "    </div>\n",
              "  </div>\n",
              "  "
            ]
          },
          "metadata": {},
          "execution_count": 65
        }
      ]
    },
    {
      "cell_type": "code",
      "source": [
        "df.groupby('month').sum()"
      ],
      "metadata": {
        "id": "aoCK6BRbolv6",
        "colab": {
          "base_uri": "https://localhost:8080/",
          "height": 457
        },
        "outputId": "0285e357-956b-44ac-c2ba-2fecd084c2aa"
      },
      "execution_count": 66,
      "outputs": [
        {
          "output_type": "execute_result",
          "data": {
            "text/plain": [
              "       Global_active_power  Global_reactive_power     Voltage  \\\n",
              "month                                                           \n",
              "1                11010.708                948.304  2007667.97   \n",
              "2                 8152.446                821.946  1828442.49   \n",
              "3                 9747.036                988.760  2019103.08   \n",
              "4                 8476.136               1001.732  1956734.97   \n",
              "5                 8809.694               1078.724  2002497.07   \n",
              "6                 7886.670               1171.686  1960283.14   \n",
              "7                 6922.470               1138.696  2034762.85   \n",
              "8                 6931.770               1129.082  1985413.10   \n",
              "9                 8495.682               1050.424  1949014.65   \n",
              "10                9681.934               1017.646  2098390.71   \n",
              "11               10113.624                915.628  1928346.74   \n",
              "12               11224.476                968.612  1994463.58   \n",
              "\n",
              "       Global_intensity  Sub_metering_1  Sub_metering_2  Sub_metering_3  \\\n",
              "month                                                                     \n",
              "1               46397.0         11270.0         10824.0         61552.0   \n",
              "2               34349.2          6770.0          9704.0         46932.0   \n",
              "3               41145.0         10014.0         13379.0         58751.0   \n",
              "4               35929.8          8530.0         10991.0         50919.0   \n",
              "5               37616.8         10187.0         11647.0         55326.0   \n",
              "6               33827.4          9297.0         10440.0         49969.0   \n",
              "7               29847.2          6263.0          9510.0         41611.0   \n",
              "8               29771.6          7099.0          9424.0         44363.0   \n",
              "9               36148.4         10411.0         10226.0         51869.0   \n",
              "10              40856.8          9198.0         10639.0         55899.0   \n",
              "11              42647.4         10149.0         10803.0         55449.0   \n",
              "12              47099.8         10651.0         11203.0         61533.0   \n",
              "\n",
              "         year  \n",
              "month          \n",
              "1      247044  \n",
              "2      224950  \n",
              "3      247044  \n",
              "4      239010  \n",
              "5      247044  \n",
              "6      239010  \n",
              "7      247044  \n",
              "8      247044  \n",
              "9      239010  \n",
              "10     247044  \n",
              "11     230970  \n",
              "12     240950  "
            ],
            "text/html": [
              "\n",
              "  <div id=\"df-ee181f48-5acb-4659-94c5-920cb7cad667\">\n",
              "    <div class=\"colab-df-container\">\n",
              "      <div>\n",
              "<style scoped>\n",
              "    .dataframe tbody tr th:only-of-type {\n",
              "        vertical-align: middle;\n",
              "    }\n",
              "\n",
              "    .dataframe tbody tr th {\n",
              "        vertical-align: top;\n",
              "    }\n",
              "\n",
              "    .dataframe thead th {\n",
              "        text-align: right;\n",
              "    }\n",
              "</style>\n",
              "<table border=\"1\" class=\"dataframe\">\n",
              "  <thead>\n",
              "    <tr style=\"text-align: right;\">\n",
              "      <th></th>\n",
              "      <th>Global_active_power</th>\n",
              "      <th>Global_reactive_power</th>\n",
              "      <th>Voltage</th>\n",
              "      <th>Global_intensity</th>\n",
              "      <th>Sub_metering_1</th>\n",
              "      <th>Sub_metering_2</th>\n",
              "      <th>Sub_metering_3</th>\n",
              "      <th>year</th>\n",
              "    </tr>\n",
              "    <tr>\n",
              "      <th>month</th>\n",
              "      <th></th>\n",
              "      <th></th>\n",
              "      <th></th>\n",
              "      <th></th>\n",
              "      <th></th>\n",
              "      <th></th>\n",
              "      <th></th>\n",
              "      <th></th>\n",
              "    </tr>\n",
              "  </thead>\n",
              "  <tbody>\n",
              "    <tr>\n",
              "      <th>1</th>\n",
              "      <td>11010.708</td>\n",
              "      <td>948.304</td>\n",
              "      <td>2007667.97</td>\n",
              "      <td>46397.0</td>\n",
              "      <td>11270.0</td>\n",
              "      <td>10824.0</td>\n",
              "      <td>61552.0</td>\n",
              "      <td>247044</td>\n",
              "    </tr>\n",
              "    <tr>\n",
              "      <th>2</th>\n",
              "      <td>8152.446</td>\n",
              "      <td>821.946</td>\n",
              "      <td>1828442.49</td>\n",
              "      <td>34349.2</td>\n",
              "      <td>6770.0</td>\n",
              "      <td>9704.0</td>\n",
              "      <td>46932.0</td>\n",
              "      <td>224950</td>\n",
              "    </tr>\n",
              "    <tr>\n",
              "      <th>3</th>\n",
              "      <td>9747.036</td>\n",
              "      <td>988.760</td>\n",
              "      <td>2019103.08</td>\n",
              "      <td>41145.0</td>\n",
              "      <td>10014.0</td>\n",
              "      <td>13379.0</td>\n",
              "      <td>58751.0</td>\n",
              "      <td>247044</td>\n",
              "    </tr>\n",
              "    <tr>\n",
              "      <th>4</th>\n",
              "      <td>8476.136</td>\n",
              "      <td>1001.732</td>\n",
              "      <td>1956734.97</td>\n",
              "      <td>35929.8</td>\n",
              "      <td>8530.0</td>\n",
              "      <td>10991.0</td>\n",
              "      <td>50919.0</td>\n",
              "      <td>239010</td>\n",
              "    </tr>\n",
              "    <tr>\n",
              "      <th>5</th>\n",
              "      <td>8809.694</td>\n",
              "      <td>1078.724</td>\n",
              "      <td>2002497.07</td>\n",
              "      <td>37616.8</td>\n",
              "      <td>10187.0</td>\n",
              "      <td>11647.0</td>\n",
              "      <td>55326.0</td>\n",
              "      <td>247044</td>\n",
              "    </tr>\n",
              "    <tr>\n",
              "      <th>6</th>\n",
              "      <td>7886.670</td>\n",
              "      <td>1171.686</td>\n",
              "      <td>1960283.14</td>\n",
              "      <td>33827.4</td>\n",
              "      <td>9297.0</td>\n",
              "      <td>10440.0</td>\n",
              "      <td>49969.0</td>\n",
              "      <td>239010</td>\n",
              "    </tr>\n",
              "    <tr>\n",
              "      <th>7</th>\n",
              "      <td>6922.470</td>\n",
              "      <td>1138.696</td>\n",
              "      <td>2034762.85</td>\n",
              "      <td>29847.2</td>\n",
              "      <td>6263.0</td>\n",
              "      <td>9510.0</td>\n",
              "      <td>41611.0</td>\n",
              "      <td>247044</td>\n",
              "    </tr>\n",
              "    <tr>\n",
              "      <th>8</th>\n",
              "      <td>6931.770</td>\n",
              "      <td>1129.082</td>\n",
              "      <td>1985413.10</td>\n",
              "      <td>29771.6</td>\n",
              "      <td>7099.0</td>\n",
              "      <td>9424.0</td>\n",
              "      <td>44363.0</td>\n",
              "      <td>247044</td>\n",
              "    </tr>\n",
              "    <tr>\n",
              "      <th>9</th>\n",
              "      <td>8495.682</td>\n",
              "      <td>1050.424</td>\n",
              "      <td>1949014.65</td>\n",
              "      <td>36148.4</td>\n",
              "      <td>10411.0</td>\n",
              "      <td>10226.0</td>\n",
              "      <td>51869.0</td>\n",
              "      <td>239010</td>\n",
              "    </tr>\n",
              "    <tr>\n",
              "      <th>10</th>\n",
              "      <td>9681.934</td>\n",
              "      <td>1017.646</td>\n",
              "      <td>2098390.71</td>\n",
              "      <td>40856.8</td>\n",
              "      <td>9198.0</td>\n",
              "      <td>10639.0</td>\n",
              "      <td>55899.0</td>\n",
              "      <td>247044</td>\n",
              "    </tr>\n",
              "    <tr>\n",
              "      <th>11</th>\n",
              "      <td>10113.624</td>\n",
              "      <td>915.628</td>\n",
              "      <td>1928346.74</td>\n",
              "      <td>42647.4</td>\n",
              "      <td>10149.0</td>\n",
              "      <td>10803.0</td>\n",
              "      <td>55449.0</td>\n",
              "      <td>230970</td>\n",
              "    </tr>\n",
              "    <tr>\n",
              "      <th>12</th>\n",
              "      <td>11224.476</td>\n",
              "      <td>968.612</td>\n",
              "      <td>1994463.58</td>\n",
              "      <td>47099.8</td>\n",
              "      <td>10651.0</td>\n",
              "      <td>11203.0</td>\n",
              "      <td>61533.0</td>\n",
              "      <td>240950</td>\n",
              "    </tr>\n",
              "  </tbody>\n",
              "</table>\n",
              "</div>\n",
              "      <button class=\"colab-df-convert\" onclick=\"convertToInteractive('df-ee181f48-5acb-4659-94c5-920cb7cad667')\"\n",
              "              title=\"Convert this dataframe to an interactive table.\"\n",
              "              style=\"display:none;\">\n",
              "        \n",
              "  <svg xmlns=\"http://www.w3.org/2000/svg\" height=\"24px\"viewBox=\"0 0 24 24\"\n",
              "       width=\"24px\">\n",
              "    <path d=\"M0 0h24v24H0V0z\" fill=\"none\"/>\n",
              "    <path d=\"M18.56 5.44l.94 2.06.94-2.06 2.06-.94-2.06-.94-.94-2.06-.94 2.06-2.06.94zm-11 1L8.5 8.5l.94-2.06 2.06-.94-2.06-.94L8.5 2.5l-.94 2.06-2.06.94zm10 10l.94 2.06.94-2.06 2.06-.94-2.06-.94-.94-2.06-.94 2.06-2.06.94z\"/><path d=\"M17.41 7.96l-1.37-1.37c-.4-.4-.92-.59-1.43-.59-.52 0-1.04.2-1.43.59L10.3 9.45l-7.72 7.72c-.78.78-.78 2.05 0 2.83L4 21.41c.39.39.9.59 1.41.59.51 0 1.02-.2 1.41-.59l7.78-7.78 2.81-2.81c.8-.78.8-2.07 0-2.86zM5.41 20L4 18.59l7.72-7.72 1.47 1.35L5.41 20z\"/>\n",
              "  </svg>\n",
              "      </button>\n",
              "      \n",
              "  <style>\n",
              "    .colab-df-container {\n",
              "      display:flex;\n",
              "      flex-wrap:wrap;\n",
              "      gap: 12px;\n",
              "    }\n",
              "\n",
              "    .colab-df-convert {\n",
              "      background-color: #E8F0FE;\n",
              "      border: none;\n",
              "      border-radius: 50%;\n",
              "      cursor: pointer;\n",
              "      display: none;\n",
              "      fill: #1967D2;\n",
              "      height: 32px;\n",
              "      padding: 0 0 0 0;\n",
              "      width: 32px;\n",
              "    }\n",
              "\n",
              "    .colab-df-convert:hover {\n",
              "      background-color: #E2EBFA;\n",
              "      box-shadow: 0px 1px 2px rgba(60, 64, 67, 0.3), 0px 1px 3px 1px rgba(60, 64, 67, 0.15);\n",
              "      fill: #174EA6;\n",
              "    }\n",
              "\n",
              "    [theme=dark] .colab-df-convert {\n",
              "      background-color: #3B4455;\n",
              "      fill: #D2E3FC;\n",
              "    }\n",
              "\n",
              "    [theme=dark] .colab-df-convert:hover {\n",
              "      background-color: #434B5C;\n",
              "      box-shadow: 0px 1px 3px 1px rgba(0, 0, 0, 0.15);\n",
              "      filter: drop-shadow(0px 1px 2px rgba(0, 0, 0, 0.3));\n",
              "      fill: #FFFFFF;\n",
              "    }\n",
              "  </style>\n",
              "\n",
              "      <script>\n",
              "        const buttonEl =\n",
              "          document.querySelector('#df-ee181f48-5acb-4659-94c5-920cb7cad667 button.colab-df-convert');\n",
              "        buttonEl.style.display =\n",
              "          google.colab.kernel.accessAllowed ? 'block' : 'none';\n",
              "\n",
              "        async function convertToInteractive(key) {\n",
              "          const element = document.querySelector('#df-ee181f48-5acb-4659-94c5-920cb7cad667');\n",
              "          const dataTable =\n",
              "            await google.colab.kernel.invokeFunction('convertToInteractive',\n",
              "                                                     [key], {});\n",
              "          if (!dataTable) return;\n",
              "\n",
              "          const docLinkHtml = 'Like what you see? Visit the ' +\n",
              "            '<a target=\"_blank\" href=https://colab.research.google.com/notebooks/data_table.ipynb>data table notebook</a>'\n",
              "            + ' to learn more about interactive tables.';\n",
              "          element.innerHTML = '';\n",
              "          dataTable['output_type'] = 'display_data';\n",
              "          await google.colab.output.renderOutput(dataTable, element);\n",
              "          const docLink = document.createElement('div');\n",
              "          docLink.innerHTML = docLinkHtml;\n",
              "          element.appendChild(docLink);\n",
              "        }\n",
              "      </script>\n",
              "    </div>\n",
              "  </div>\n",
              "  "
            ]
          },
          "metadata": {},
          "execution_count": 66
        }
      ]
    },
    {
      "cell_type": "code",
      "source": [
        "df.shape"
      ],
      "metadata": {
        "id": "V-imO_M_olyZ",
        "colab": {
          "base_uri": "https://localhost:8080/"
        },
        "outputId": "b6227324-c4ef-4093-842f-cbbcf72cfdc7"
      },
      "execution_count": 67,
      "outputs": [
        {
          "output_type": "execute_result",
          "data": {
            "text/plain": [
              "(1442, 10)"
            ]
          },
          "metadata": {},
          "execution_count": 67
        }
      ]
    },
    {
      "cell_type": "code",
      "source": [
        "df = df[df['Date']>'2006-12-31']"
      ],
      "metadata": {
        "id": "87MUQNvNol0R"
      },
      "execution_count": 68,
      "outputs": []
    },
    {
      "cell_type": "code",
      "source": [
        "df.shape"
      ],
      "metadata": {
        "id": "7Y7i9eqmol3I",
        "colab": {
          "base_uri": "https://localhost:8080/"
        },
        "outputId": "5a78ff7a-a901-48a3-962f-c65356e1c1ed"
      },
      "execution_count": 69,
      "outputs": [
        {
          "output_type": "execute_result",
          "data": {
            "text/plain": [
              "(1426, 10)"
            ]
          },
          "metadata": {},
          "execution_count": 69
        }
      ]
    },
    {
      "cell_type": "code",
      "source": [
        "df.isnull().sum()"
      ],
      "metadata": {
        "id": "DS1r7JPgol6B",
        "colab": {
          "base_uri": "https://localhost:8080/"
        },
        "outputId": "01763dcf-bbc3-4549-bd77-4bdefc345585"
      },
      "execution_count": 70,
      "outputs": [
        {
          "output_type": "execute_result",
          "data": {
            "text/plain": [
              "Date                     0\n",
              "Global_active_power      0\n",
              "Global_reactive_power    0\n",
              "Voltage                  0\n",
              "Global_intensity         0\n",
              "Sub_metering_1           0\n",
              "Sub_metering_2           0\n",
              "Sub_metering_3           0\n",
              "year                     0\n",
              "month                    0\n",
              "dtype: int64"
            ]
          },
          "metadata": {},
          "execution_count": 70
        }
      ]
    },
    {
      "cell_type": "code",
      "source": [
        "a = (df['Global_active_power']*1000/60)\n",
        "b = df['Sub_metering_1'] + df['Sub_metering_2'] + df['Sub_metering_3']\n",
        "df['power_consumption'] = a - b\n",
        "df.head()"
      ],
      "metadata": {
        "id": "zjg9mL29ol8w",
        "colab": {
          "base_uri": "https://localhost:8080/",
          "height": 206
        },
        "outputId": "b347ce92-bf4e-48e2-bc30-a9e39220ee6e"
      },
      "execution_count": 71,
      "outputs": [
        {
          "output_type": "execute_result",
          "data": {
            "text/plain": [
              "         Date  Global_active_power  Global_reactive_power   Voltage  \\\n",
              "16 2007-01-01              136.092                  8.790  17063.52   \n",
              "17 2007-01-02               96.230                  7.922  20438.87   \n",
              "18 2007-01-03               25.416                  4.938  17871.77   \n",
              "19 2007-01-04               97.752                  8.124  14654.69   \n",
              "20 2007-01-05               72.016                  7.874  15283.45   \n",
              "\n",
              "    Global_intensity  Sub_metering_1  Sub_metering_2  Sub_metering_3  year  \\\n",
              "16             563.4             0.0            17.0           209.0  2007   \n",
              "17             403.2             8.0            14.0           681.0  2007   \n",
              "18             105.0             0.0            15.0            89.0  2007   \n",
              "19             410.4            88.0           130.0           795.0  2007   \n",
              "20             316.2           338.0            28.0           300.0  2007   \n",
              "\n",
              "    month  power_consumption  \n",
              "16      1        2042.200000  \n",
              "17      1         900.833333  \n",
              "18      1         319.600000  \n",
              "19      1         616.200000  \n",
              "20      1         534.266667  "
            ],
            "text/html": [
              "\n",
              "  <div id=\"df-1e533a78-7997-4cbd-902f-0d21d40440c0\">\n",
              "    <div class=\"colab-df-container\">\n",
              "      <div>\n",
              "<style scoped>\n",
              "    .dataframe tbody tr th:only-of-type {\n",
              "        vertical-align: middle;\n",
              "    }\n",
              "\n",
              "    .dataframe tbody tr th {\n",
              "        vertical-align: top;\n",
              "    }\n",
              "\n",
              "    .dataframe thead th {\n",
              "        text-align: right;\n",
              "    }\n",
              "</style>\n",
              "<table border=\"1\" class=\"dataframe\">\n",
              "  <thead>\n",
              "    <tr style=\"text-align: right;\">\n",
              "      <th></th>\n",
              "      <th>Date</th>\n",
              "      <th>Global_active_power</th>\n",
              "      <th>Global_reactive_power</th>\n",
              "      <th>Voltage</th>\n",
              "      <th>Global_intensity</th>\n",
              "      <th>Sub_metering_1</th>\n",
              "      <th>Sub_metering_2</th>\n",
              "      <th>Sub_metering_3</th>\n",
              "      <th>year</th>\n",
              "      <th>month</th>\n",
              "      <th>power_consumption</th>\n",
              "    </tr>\n",
              "  </thead>\n",
              "  <tbody>\n",
              "    <tr>\n",
              "      <th>16</th>\n",
              "      <td>2007-01-01</td>\n",
              "      <td>136.092</td>\n",
              "      <td>8.790</td>\n",
              "      <td>17063.52</td>\n",
              "      <td>563.4</td>\n",
              "      <td>0.0</td>\n",
              "      <td>17.0</td>\n",
              "      <td>209.0</td>\n",
              "      <td>2007</td>\n",
              "      <td>1</td>\n",
              "      <td>2042.200000</td>\n",
              "    </tr>\n",
              "    <tr>\n",
              "      <th>17</th>\n",
              "      <td>2007-01-02</td>\n",
              "      <td>96.230</td>\n",
              "      <td>7.922</td>\n",
              "      <td>20438.87</td>\n",
              "      <td>403.2</td>\n",
              "      <td>8.0</td>\n",
              "      <td>14.0</td>\n",
              "      <td>681.0</td>\n",
              "      <td>2007</td>\n",
              "      <td>1</td>\n",
              "      <td>900.833333</td>\n",
              "    </tr>\n",
              "    <tr>\n",
              "      <th>18</th>\n",
              "      <td>2007-01-03</td>\n",
              "      <td>25.416</td>\n",
              "      <td>4.938</td>\n",
              "      <td>17871.77</td>\n",
              "      <td>105.0</td>\n",
              "      <td>0.0</td>\n",
              "      <td>15.0</td>\n",
              "      <td>89.0</td>\n",
              "      <td>2007</td>\n",
              "      <td>1</td>\n",
              "      <td>319.600000</td>\n",
              "    </tr>\n",
              "    <tr>\n",
              "      <th>19</th>\n",
              "      <td>2007-01-04</td>\n",
              "      <td>97.752</td>\n",
              "      <td>8.124</td>\n",
              "      <td>14654.69</td>\n",
              "      <td>410.4</td>\n",
              "      <td>88.0</td>\n",
              "      <td>130.0</td>\n",
              "      <td>795.0</td>\n",
              "      <td>2007</td>\n",
              "      <td>1</td>\n",
              "      <td>616.200000</td>\n",
              "    </tr>\n",
              "    <tr>\n",
              "      <th>20</th>\n",
              "      <td>2007-01-05</td>\n",
              "      <td>72.016</td>\n",
              "      <td>7.874</td>\n",
              "      <td>15283.45</td>\n",
              "      <td>316.2</td>\n",
              "      <td>338.0</td>\n",
              "      <td>28.0</td>\n",
              "      <td>300.0</td>\n",
              "      <td>2007</td>\n",
              "      <td>1</td>\n",
              "      <td>534.266667</td>\n",
              "    </tr>\n",
              "  </tbody>\n",
              "</table>\n",
              "</div>\n",
              "      <button class=\"colab-df-convert\" onclick=\"convertToInteractive('df-1e533a78-7997-4cbd-902f-0d21d40440c0')\"\n",
              "              title=\"Convert this dataframe to an interactive table.\"\n",
              "              style=\"display:none;\">\n",
              "        \n",
              "  <svg xmlns=\"http://www.w3.org/2000/svg\" height=\"24px\"viewBox=\"0 0 24 24\"\n",
              "       width=\"24px\">\n",
              "    <path d=\"M0 0h24v24H0V0z\" fill=\"none\"/>\n",
              "    <path d=\"M18.56 5.44l.94 2.06.94-2.06 2.06-.94-2.06-.94-.94-2.06-.94 2.06-2.06.94zm-11 1L8.5 8.5l.94-2.06 2.06-.94-2.06-.94L8.5 2.5l-.94 2.06-2.06.94zm10 10l.94 2.06.94-2.06 2.06-.94-2.06-.94-.94-2.06-.94 2.06-2.06.94z\"/><path d=\"M17.41 7.96l-1.37-1.37c-.4-.4-.92-.59-1.43-.59-.52 0-1.04.2-1.43.59L10.3 9.45l-7.72 7.72c-.78.78-.78 2.05 0 2.83L4 21.41c.39.39.9.59 1.41.59.51 0 1.02-.2 1.41-.59l7.78-7.78 2.81-2.81c.8-.78.8-2.07 0-2.86zM5.41 20L4 18.59l7.72-7.72 1.47 1.35L5.41 20z\"/>\n",
              "  </svg>\n",
              "      </button>\n",
              "      \n",
              "  <style>\n",
              "    .colab-df-container {\n",
              "      display:flex;\n",
              "      flex-wrap:wrap;\n",
              "      gap: 12px;\n",
              "    }\n",
              "\n",
              "    .colab-df-convert {\n",
              "      background-color: #E8F0FE;\n",
              "      border: none;\n",
              "      border-radius: 50%;\n",
              "      cursor: pointer;\n",
              "      display: none;\n",
              "      fill: #1967D2;\n",
              "      height: 32px;\n",
              "      padding: 0 0 0 0;\n",
              "      width: 32px;\n",
              "    }\n",
              "\n",
              "    .colab-df-convert:hover {\n",
              "      background-color: #E2EBFA;\n",
              "      box-shadow: 0px 1px 2px rgba(60, 64, 67, 0.3), 0px 1px 3px 1px rgba(60, 64, 67, 0.15);\n",
              "      fill: #174EA6;\n",
              "    }\n",
              "\n",
              "    [theme=dark] .colab-df-convert {\n",
              "      background-color: #3B4455;\n",
              "      fill: #D2E3FC;\n",
              "    }\n",
              "\n",
              "    [theme=dark] .colab-df-convert:hover {\n",
              "      background-color: #434B5C;\n",
              "      box-shadow: 0px 1px 3px 1px rgba(0, 0, 0, 0.15);\n",
              "      filter: drop-shadow(0px 1px 2px rgba(0, 0, 0, 0.3));\n",
              "      fill: #FFFFFF;\n",
              "    }\n",
              "  </style>\n",
              "\n",
              "      <script>\n",
              "        const buttonEl =\n",
              "          document.querySelector('#df-1e533a78-7997-4cbd-902f-0d21d40440c0 button.colab-df-convert');\n",
              "        buttonEl.style.display =\n",
              "          google.colab.kernel.accessAllowed ? 'block' : 'none';\n",
              "\n",
              "        async function convertToInteractive(key) {\n",
              "          const element = document.querySelector('#df-1e533a78-7997-4cbd-902f-0d21d40440c0');\n",
              "          const dataTable =\n",
              "            await google.colab.kernel.invokeFunction('convertToInteractive',\n",
              "                                                     [key], {});\n",
              "          if (!dataTable) return;\n",
              "\n",
              "          const docLinkHtml = 'Like what you see? Visit the ' +\n",
              "            '<a target=\"_blank\" href=https://colab.research.google.com/notebooks/data_table.ipynb>data table notebook</a>'\n",
              "            + ' to learn more about interactive tables.';\n",
              "          element.innerHTML = '';\n",
              "          dataTable['output_type'] = 'display_data';\n",
              "          await google.colab.output.renderOutput(dataTable, element);\n",
              "          const docLink = document.createElement('div');\n",
              "          docLink.innerHTML = docLinkHtml;\n",
              "          element.appendChild(docLink);\n",
              "        }\n",
              "      </script>\n",
              "    </div>\n",
              "  </div>\n",
              "  "
            ]
          },
          "metadata": {},
          "execution_count": 71
        }
      ]
    },
    {
      "cell_type": "code",
      "source": [
        "df['Sub_metering']=df['Sub_metering_1']+df['Sub_metering_2']+df['Sub_metering_3']\n",
        "\n"
      ],
      "metadata": {
        "id": "50ZTMAL_pCuS"
      },
      "execution_count": 72,
      "outputs": []
    },
    {
      "cell_type": "code",
      "source": [
        "df = df.drop(['Sub_metering_1','Sub_metering_2','Sub_metering_3'],axis=1)"
      ],
      "metadata": {
        "id": "rGI659ccpCxH"
      },
      "execution_count": 73,
      "outputs": []
    },
    {
      "cell_type": "code",
      "source": [
        "df.head()"
      ],
      "metadata": {
        "id": "_am-e-BjpC0H",
        "colab": {
          "base_uri": "https://localhost:8080/",
          "height": 206
        },
        "outputId": "2d5f5f66-ff1a-4977-a213-13576d6c347c"
      },
      "execution_count": 74,
      "outputs": [
        {
          "output_type": "execute_result",
          "data": {
            "text/plain": [
              "         Date  Global_active_power  Global_reactive_power   Voltage  \\\n",
              "16 2007-01-01              136.092                  8.790  17063.52   \n",
              "17 2007-01-02               96.230                  7.922  20438.87   \n",
              "18 2007-01-03               25.416                  4.938  17871.77   \n",
              "19 2007-01-04               97.752                  8.124  14654.69   \n",
              "20 2007-01-05               72.016                  7.874  15283.45   \n",
              "\n",
              "    Global_intensity  year  month  power_consumption  Sub_metering  \n",
              "16             563.4  2007      1        2042.200000         226.0  \n",
              "17             403.2  2007      1         900.833333         703.0  \n",
              "18             105.0  2007      1         319.600000         104.0  \n",
              "19             410.4  2007      1         616.200000        1013.0  \n",
              "20             316.2  2007      1         534.266667         666.0  "
            ],
            "text/html": [
              "\n",
              "  <div id=\"df-f1e9d6f0-7645-4438-87ff-6d44fca7223b\">\n",
              "    <div class=\"colab-df-container\">\n",
              "      <div>\n",
              "<style scoped>\n",
              "    .dataframe tbody tr th:only-of-type {\n",
              "        vertical-align: middle;\n",
              "    }\n",
              "\n",
              "    .dataframe tbody tr th {\n",
              "        vertical-align: top;\n",
              "    }\n",
              "\n",
              "    .dataframe thead th {\n",
              "        text-align: right;\n",
              "    }\n",
              "</style>\n",
              "<table border=\"1\" class=\"dataframe\">\n",
              "  <thead>\n",
              "    <tr style=\"text-align: right;\">\n",
              "      <th></th>\n",
              "      <th>Date</th>\n",
              "      <th>Global_active_power</th>\n",
              "      <th>Global_reactive_power</th>\n",
              "      <th>Voltage</th>\n",
              "      <th>Global_intensity</th>\n",
              "      <th>year</th>\n",
              "      <th>month</th>\n",
              "      <th>power_consumption</th>\n",
              "      <th>Sub_metering</th>\n",
              "    </tr>\n",
              "  </thead>\n",
              "  <tbody>\n",
              "    <tr>\n",
              "      <th>16</th>\n",
              "      <td>2007-01-01</td>\n",
              "      <td>136.092</td>\n",
              "      <td>8.790</td>\n",
              "      <td>17063.52</td>\n",
              "      <td>563.4</td>\n",
              "      <td>2007</td>\n",
              "      <td>1</td>\n",
              "      <td>2042.200000</td>\n",
              "      <td>226.0</td>\n",
              "    </tr>\n",
              "    <tr>\n",
              "      <th>17</th>\n",
              "      <td>2007-01-02</td>\n",
              "      <td>96.230</td>\n",
              "      <td>7.922</td>\n",
              "      <td>20438.87</td>\n",
              "      <td>403.2</td>\n",
              "      <td>2007</td>\n",
              "      <td>1</td>\n",
              "      <td>900.833333</td>\n",
              "      <td>703.0</td>\n",
              "    </tr>\n",
              "    <tr>\n",
              "      <th>18</th>\n",
              "      <td>2007-01-03</td>\n",
              "      <td>25.416</td>\n",
              "      <td>4.938</td>\n",
              "      <td>17871.77</td>\n",
              "      <td>105.0</td>\n",
              "      <td>2007</td>\n",
              "      <td>1</td>\n",
              "      <td>319.600000</td>\n",
              "      <td>104.0</td>\n",
              "    </tr>\n",
              "    <tr>\n",
              "      <th>19</th>\n",
              "      <td>2007-01-04</td>\n",
              "      <td>97.752</td>\n",
              "      <td>8.124</td>\n",
              "      <td>14654.69</td>\n",
              "      <td>410.4</td>\n",
              "      <td>2007</td>\n",
              "      <td>1</td>\n",
              "      <td>616.200000</td>\n",
              "      <td>1013.0</td>\n",
              "    </tr>\n",
              "    <tr>\n",
              "      <th>20</th>\n",
              "      <td>2007-01-05</td>\n",
              "      <td>72.016</td>\n",
              "      <td>7.874</td>\n",
              "      <td>15283.45</td>\n",
              "      <td>316.2</td>\n",
              "      <td>2007</td>\n",
              "      <td>1</td>\n",
              "      <td>534.266667</td>\n",
              "      <td>666.0</td>\n",
              "    </tr>\n",
              "  </tbody>\n",
              "</table>\n",
              "</div>\n",
              "      <button class=\"colab-df-convert\" onclick=\"convertToInteractive('df-f1e9d6f0-7645-4438-87ff-6d44fca7223b')\"\n",
              "              title=\"Convert this dataframe to an interactive table.\"\n",
              "              style=\"display:none;\">\n",
              "        \n",
              "  <svg xmlns=\"http://www.w3.org/2000/svg\" height=\"24px\"viewBox=\"0 0 24 24\"\n",
              "       width=\"24px\">\n",
              "    <path d=\"M0 0h24v24H0V0z\" fill=\"none\"/>\n",
              "    <path d=\"M18.56 5.44l.94 2.06.94-2.06 2.06-.94-2.06-.94-.94-2.06-.94 2.06-2.06.94zm-11 1L8.5 8.5l.94-2.06 2.06-.94-2.06-.94L8.5 2.5l-.94 2.06-2.06.94zm10 10l.94 2.06.94-2.06 2.06-.94-2.06-.94-.94-2.06-.94 2.06-2.06.94z\"/><path d=\"M17.41 7.96l-1.37-1.37c-.4-.4-.92-.59-1.43-.59-.52 0-1.04.2-1.43.59L10.3 9.45l-7.72 7.72c-.78.78-.78 2.05 0 2.83L4 21.41c.39.39.9.59 1.41.59.51 0 1.02-.2 1.41-.59l7.78-7.78 2.81-2.81c.8-.78.8-2.07 0-2.86zM5.41 20L4 18.59l7.72-7.72 1.47 1.35L5.41 20z\"/>\n",
              "  </svg>\n",
              "      </button>\n",
              "      \n",
              "  <style>\n",
              "    .colab-df-container {\n",
              "      display:flex;\n",
              "      flex-wrap:wrap;\n",
              "      gap: 12px;\n",
              "    }\n",
              "\n",
              "    .colab-df-convert {\n",
              "      background-color: #E8F0FE;\n",
              "      border: none;\n",
              "      border-radius: 50%;\n",
              "      cursor: pointer;\n",
              "      display: none;\n",
              "      fill: #1967D2;\n",
              "      height: 32px;\n",
              "      padding: 0 0 0 0;\n",
              "      width: 32px;\n",
              "    }\n",
              "\n",
              "    .colab-df-convert:hover {\n",
              "      background-color: #E2EBFA;\n",
              "      box-shadow: 0px 1px 2px rgba(60, 64, 67, 0.3), 0px 1px 3px 1px rgba(60, 64, 67, 0.15);\n",
              "      fill: #174EA6;\n",
              "    }\n",
              "\n",
              "    [theme=dark] .colab-df-convert {\n",
              "      background-color: #3B4455;\n",
              "      fill: #D2E3FC;\n",
              "    }\n",
              "\n",
              "    [theme=dark] .colab-df-convert:hover {\n",
              "      background-color: #434B5C;\n",
              "      box-shadow: 0px 1px 3px 1px rgba(0, 0, 0, 0.15);\n",
              "      filter: drop-shadow(0px 1px 2px rgba(0, 0, 0, 0.3));\n",
              "      fill: #FFFFFF;\n",
              "    }\n",
              "  </style>\n",
              "\n",
              "      <script>\n",
              "        const buttonEl =\n",
              "          document.querySelector('#df-f1e9d6f0-7645-4438-87ff-6d44fca7223b button.colab-df-convert');\n",
              "        buttonEl.style.display =\n",
              "          google.colab.kernel.accessAllowed ? 'block' : 'none';\n",
              "\n",
              "        async function convertToInteractive(key) {\n",
              "          const element = document.querySelector('#df-f1e9d6f0-7645-4438-87ff-6d44fca7223b');\n",
              "          const dataTable =\n",
              "            await google.colab.kernel.invokeFunction('convertToInteractive',\n",
              "                                                     [key], {});\n",
              "          if (!dataTable) return;\n",
              "\n",
              "          const docLinkHtml = 'Like what you see? Visit the ' +\n",
              "            '<a target=\"_blank\" href=https://colab.research.google.com/notebooks/data_table.ipynb>data table notebook</a>'\n",
              "            + ' to learn more about interactive tables.';\n",
              "          element.innerHTML = '';\n",
              "          dataTable['output_type'] = 'display_data';\n",
              "          await google.colab.output.renderOutput(dataTable, element);\n",
              "          const docLink = document.createElement('div');\n",
              "          docLink.innerHTML = docLinkHtml;\n",
              "          element.appendChild(docLink);\n",
              "        }\n",
              "      </script>\n",
              "    </div>\n",
              "  </div>\n",
              "  "
            ]
          },
          "metadata": {},
          "execution_count": 74
        }
      ]
    },
    {
      "cell_type": "code",
      "source": [
        "df.isnull().sum()"
      ],
      "metadata": {
        "id": "1Rk93OjQpC2_",
        "colab": {
          "base_uri": "https://localhost:8080/"
        },
        "outputId": "7ea1f2e8-dfc9-4ac9-b3dc-6203844bf126"
      },
      "execution_count": 75,
      "outputs": [
        {
          "output_type": "execute_result",
          "data": {
            "text/plain": [
              "Date                     0\n",
              "Global_active_power      0\n",
              "Global_reactive_power    0\n",
              "Voltage                  0\n",
              "Global_intensity         0\n",
              "year                     0\n",
              "month                    0\n",
              "power_consumption        0\n",
              "Sub_metering             0\n",
              "dtype: int64"
            ]
          },
          "metadata": {},
          "execution_count": 75
        }
      ]
    },
    {
      "cell_type": "code",
      "source": [
        "fig, ax = plt.subplots(ncols=4, nrows=2, figsize=(20,10))\n",
        "index = 0\n",
        "ax = ax.flatten()\n",
        "for col, value in df.items():\n",
        "  if col!='Date':\n",
        "    sns.boxplot(x = col, data = df, ax=ax[index])\n",
        "    index += 1\n",
        "plt.tight_layout(pad=0.5, w_pad=0.7, h_pad=5.0)"
      ],
      "metadata": {
        "id": "JAZ39-QQpC6s",
        "colab": {
          "base_uri": "https://localhost:8080/",
          "height": 729
        },
        "outputId": "a79f5fa5-45e9-44c6-ff0a-9e4aa095e7f4"
      },
      "execution_count": 76,
      "outputs": [
        {
          "output_type": "display_data",
          "data": {
            "text/plain": [
              "<Figure size 1440x720 with 8 Axes>"
            ],
            "image/png": "[encoded data removed]"
          },
          "metadata": {
            "needs_background": "light"
          }
        }
      ]
    },
    {
      "cell_type": "code",
      "source": [
        "def find_boundaries(df, variable, distance):\n",
        "    IQR = df[variable].quantile(0.75) - df[variable].quantile(0.25)\n",
        "    lower_boundary = df[variable].quantile(0.25) - (IQR*distance)\n",
        "    upper_boundary = df[variable].quantile(0.75) + (IQR*distance)\n",
        "    return upper_boundary, lower_boundary"
      ],
      "metadata": {
        "id": "c-PlZz7_pYt0"
      },
      "execution_count": 77,
      "outputs": []
    },
    {
      "cell_type": "code",
      "source": [
        "outliers_columns = ['Global_active_power', 'Global_reactive_power','Voltage','Global_intensity','power_consumption','Sub_metering']\n",
        "for i in outliers_columns:\n",
        "    upper_boundary, lower_boundary = find_boundaries(df,i, 1.5)\n",
        "    outliers = np.where(df[i] > upper_boundary, True, np.where(df[i] < lower_boundary, True, False))\n",
        "    outliers_df = df.loc[outliers, i]\n",
        "    df_trimed= df.loc[~outliers, i]\n",
        "    df[i] = df_trimed"
      ],
      "metadata": {
        "id": "3URZ8tyOpYw7"
      },
      "execution_count": 78,
      "outputs": []
    },
    {
      "cell_type": "code",
      "source": [
        "df.isnull().sum()"
      ],
      "metadata": {
        "id": "WIBy-dvppYzz",
        "colab": {
          "base_uri": "https://localhost:8080/"
        },
        "outputId": "5975de35-dbe2-4180-f7cb-d7f66be662db"
      },
      "execution_count": 79,
      "outputs": [
        {
          "output_type": "execute_result",
          "data": {
            "text/plain": [
              "Date                      0\n",
              "Global_active_power      32\n",
              "Global_reactive_power    49\n",
              "Voltage                  33\n",
              "Global_intensity         31\n",
              "year                      0\n",
              "month                     0\n",
              "power_consumption        34\n",
              "Sub_metering             24\n",
              "dtype: int64"
            ]
          },
          "metadata": {},
          "execution_count": 79
        }
      ]
    },
    {
      "cell_type": "code",
      "source": [
        "df.fillna(df.median().round(1), inplace=True)"
      ],
      "metadata": {
        "id": "iDCTRT2-pY2y",
        "colab": {
          "base_uri": "https://localhost:8080/"
        },
        "outputId": "0eeb817a-2dfc-4558-887d-d5f7f78ab1a8"
      },
      "execution_count": 80,
      "outputs": [
        {
          "output_type": "stream",
          "name": "stderr",
          "text": [
            "<ipython-input-80-8e2a8cac0699>:1: FutureWarning: DataFrame.mean and DataFrame.median with numeric_only=None will include datetime64 and datetime64tz columns in a future version.\n",
            "  df.fillna(df.median().round(1), inplace=True)\n"
          ]
        }
      ]
    },
    {
      "cell_type": "code",
      "source": [
        "df.dropna(inplace = True)"
      ],
      "metadata": {
        "id": "ayyipnEspY5M"
      },
      "execution_count": 81,
      "outputs": []
    },
    {
      "cell_type": "code",
      "source": [
        "df.isnull().sum()"
      ],
      "metadata": {
        "id": "DHVDP3hupY8j",
        "colab": {
          "base_uri": "https://localhost:8080/"
        },
        "outputId": "287e1b11-2eef-4758-d0eb-dbcce66136a7"
      },
      "execution_count": 82,
      "outputs": [
        {
          "output_type": "execute_result",
          "data": {
            "text/plain": [
              "Date                     0\n",
              "Global_active_power      0\n",
              "Global_reactive_power    0\n",
              "Voltage                  0\n",
              "Global_intensity         0\n",
              "year                     0\n",
              "month                    0\n",
              "power_consumption        0\n",
              "Sub_metering             0\n",
              "dtype: int64"
            ]
          },
          "metadata": {},
          "execution_count": 82
        }
      ]
    },
    {
      "cell_type": "code",
      "source": [
        "fig, ax = plt.subplots(ncols=4, nrows=2, figsize=(20,10))\n",
        "index = 0\n",
        "ax = ax.flatten()\n",
        "for col, value in df.items():\n",
        "    if col!='Date':\n",
        "        sns.boxplot(x = col, data = df, ax=ax[index])\n",
        "        index += 1\n",
        "plt.tight_layout(pad=0.5, w_pad=0.7, h_pad=5.0)"
      ],
      "metadata": {
        "id": "yqzfjO4homAY",
        "colab": {
          "base_uri": "https://localhost:8080/",
          "height": 728
        },
        "outputId": "6effc02a-63b9-454a-9ada-8a14227a2fcf"
      },
      "execution_count": 83,
      "outputs": [
        {
          "output_type": "display_data",
          "data": {
            "text/plain": [
              "<Figure size 1440x720 with 8 Axes>"
            ],
            "image/png": "[encoded data removed]"
          },
          "metadata": {
            "needs_background": "light"
          }
        }
      ]
    },
    {
      "cell_type": "code",
      "source": [
        "fig, ax = plt.subplots(ncols = 5, nrows = 1, figsize=(20,5))\n",
        "index = 0\n",
        "ax = ax.flatten()\n",
        "for col, value in df.items():\n",
        "    if col not in ['Date', 'year', 'month']:\n",
        "        sns.barplot(y = df[col], x = df['year'], data = df, ax=ax[index] )\n",
        "        index += 1 \n",
        "    if index == 5:\n",
        "        break \n",
        "plt.tight_layout(pad=1, w_pad=1, h_pad=10.0)"
      ],
      "metadata": {
        "id": "XmSAq1lGpv4R",
        "colab": {
          "base_uri": "https://localhost:8080/",
          "height": 366
        },
        "outputId": "5a3b19ce-86c8-4d13-ac77-3a0108ad1d0d"
      },
      "execution_count": 84,
      "outputs": [
        {
          "output_type": "display_data",
          "data": {
            "text/plain": [
              "<Figure size 1440x360 with 5 Axes>"
            ],
            "image/png": "[encoded data removed]"
          },
          "metadata": {
            "needs_background": "light"
          }
        }
      ]
    },
    {
      "cell_type": "code",
      "source": [
        "\n",
        "fig, ax = plt.subplots(ncols = 5, nrows = 1, figsize=(20,5))\n",
        "index = 0\n",
        "ax = ax.flatten()\n",
        "for col, value in df.items():\n",
        "    if col not in ['Date', 'year', 'month']:\n",
        "        sns.barplot(y = df[col], x = df['month'], data = df, ax=ax[index] )\n",
        "        index += 1 \n",
        "    if index == 5:\n",
        "        break \n",
        "plt.tight_layout(pad=1, w_pad=1, h_pad=10.0)"
      ],
      "metadata": {
        "id": "HtcIuV8Upv7P",
        "colab": {
          "base_uri": "https://localhost:8080/",
          "height": 366
        },
        "outputId": "809d3306-bfca-4f0a-c0e8-a022c207447e"
      },
      "execution_count": 85,
      "outputs": [
        {
          "output_type": "display_data",
          "data": {
            "text/plain": [
              "<Figure size 1440x360 with 5 Axes>"
            ],
            "image/png": "[encoded data removed]"
          },
          "metadata": {
            "needs_background": "light"
          }
        }
      ]
    },
    {
      "cell_type": "code",
      "source": [
        "# Observation \n",
        "# 1) Power consumption in November and January are on higher side\n",
        "# 2) Voltage is almost equal in every month\n",
        "# Histplot\n",
        "\n",
        "\n",
        "fig, ax = plt.subplots(ncols=3, nrows=2, figsize=(20,10))\n",
        "index = 0\n",
        "ax = ax.flatten()\n",
        "for col, value in df.items():\n",
        "    if col not in ['Date', 'year', 'month']:\n",
        "        sns.histplot(value, ax=ax[index])\n",
        "        index += 1\n",
        "plt.tight_layout(pad=0.5, w_pad=0.7, h_pad=5.0)"
      ],
      "metadata": {
        "id": "kRHqHIBlpv-V",
        "colab": {
          "base_uri": "https://localhost:8080/",
          "height": 728
        },
        "outputId": "f399bc1d-af44-4b34-ec60-0d02cc39ebbf"
      },
      "execution_count": 86,
      "outputs": [
        {
          "output_type": "display_data",
          "data": {
            "text/plain": [
              "<Figure size 1440x720 with 6 Axes>"
            ],
            "image/png": "[encoded data removed]"
          },
          "metadata": {
            "needs_background": "light"
          }
        }
      ]
    },
    {
      "cell_type": "code",
      "source": [
        "# DistPlot\n",
        "\n",
        "\n",
        "\n",
        "fig, ax = plt.subplots(ncols=3, nrows=2, figsize=(20,10))\n",
        "index = 0\n",
        "ax = ax.flatten()\n",
        "for col, value in df.items():\n",
        "    if col not in ['Date', 'year', 'month']:\n",
        "        sns.distplot(value, ax=ax[index])\n",
        "        index += 1\n",
        "plt.tight_layout(pad=0.5, w_pad=0.7, h_pad=5.0)"
      ],
      "metadata": {
        "id": "Y2RKvKvIpwBE",
        "colab": {
          "base_uri": "https://localhost:8080/",
          "height": 954
        },
        "outputId": "138d9569-beb6-4fbf-f5e2-fdacba487e98"
      },
      "execution_count": 87,
      "outputs": [
        {
          "output_type": "stream",
          "name": "stderr",
          "text": [
            "/usr/local/lib/python3.8/dist-packages/seaborn/distributions.py:2619: FutureWarning: `distplot` is a deprecated function and will be removed in a future version. Please adapt your code to use either `displot` (a figure-level function with similar flexibility) or `histplot` (an axes-level function for histograms).\n",
            "  warnings.warn(msg, FutureWarning)\n",
            "/usr/local/lib/python3.8/dist-packages/seaborn/distributions.py:2619: FutureWarning: `distplot` is a deprecated function and will be removed in a future version. Please adapt your code to use either `displot` (a figure-level function with similar flexibility) or `histplot` (an axes-level function for histograms).\n",
            "  warnings.warn(msg, FutureWarning)\n",
            "/usr/local/lib/python3.8/dist-packages/seaborn/distributions.py:2619: FutureWarning: `distplot` is a deprecated function and will be removed in a future version. Please adapt your code to use either `displot` (a figure-level function with similar flexibility) or `histplot` (an axes-level function for histograms).\n",
            "  warnings.warn(msg, FutureWarning)\n",
            "/usr/local/lib/python3.8/dist-packages/seaborn/distributions.py:2619: FutureWarning: `distplot` is a deprecated function and will be removed in a future version. Please adapt your code to use either `displot` (a figure-level function with similar flexibility) or `histplot` (an axes-level function for histograms).\n",
            "  warnings.warn(msg, FutureWarning)\n",
            "/usr/local/lib/python3.8/dist-packages/seaborn/distributions.py:2619: FutureWarning: `distplot` is a deprecated function and will be removed in a future version. Please adapt your code to use either `displot` (a figure-level function with similar flexibility) or `histplot` (an axes-level function for histograms).\n",
            "  warnings.warn(msg, FutureWarning)\n",
            "/usr/local/lib/python3.8/dist-packages/seaborn/distributions.py:2619: FutureWarning: `distplot` is a deprecated function and will be removed in a future version. Please adapt your code to use either `displot` (a figure-level function with similar flexibility) or `histplot` (an axes-level function for histograms).\n",
            "  warnings.warn(msg, FutureWarning)\n"
          ]
        },
        {
          "output_type": "display_data",
          "data": {
            "text/plain": [
              "<Figure size 1440x720 with 6 Axes>"
            ],
            "image/png": "[encoded data removed]"
          },
          "metadata": {
            "needs_background": "light"
          }
        }
      ]
    },
    {
      "cell_type": "code",
      "source": [
        "# Statistical Analysis\n",
        "df.head"
      ],
      "metadata": {
        "id": "R-sbpl8gpwD6",
        "colab": {
          "base_uri": "https://localhost:8080/"
        },
        "outputId": "7c18d52f-8bd0-448e-a52f-462e558a2bf7"
      },
      "execution_count": 89,
      "outputs": [
        {
          "output_type": "execute_result",
          "data": {
            "text/plain": [
              "<bound method NDFrame.head of            Date  Global_active_power  Global_reactive_power   Voltage  \\\n",
              "16   2007-01-01              136.092                  8.790  17063.52   \n",
              "17   2007-01-02               96.230                  7.922  20438.87   \n",
              "18   2007-01-03               25.416                  4.938  17871.77   \n",
              "19   2007-01-04               97.752                  8.124  14654.69   \n",
              "20   2007-01-05               72.016                  7.874  15283.45   \n",
              "...         ...                  ...                    ...       ...   \n",
              "1437 2010-12-07               70.684                  8.100  18744.24   \n",
              "1438 2010-12-08               25.102                  6.894  15893.26   \n",
              "1439 2010-12-09               82.882                  9.076  19335.42   \n",
              "1440 2010-12-10               87.174                  9.936  15140.72   \n",
              "1441 2010-12-11               92.898                  6.646  15726.99   \n",
              "\n",
              "      Global_intensity  year  month  power_consumption  Sub_metering  \n",
              "16               563.4  2007      1         578.000000         226.0  \n",
              "17               403.2  2007      1         900.833333         703.0  \n",
              "18               105.0  2007      1         319.600000         104.0  \n",
              "19               410.4  2007      1         616.200000        1013.0  \n",
              "20               316.2  2007      1         534.266667         666.0  \n",
              "...                ...   ...    ...                ...           ...  \n",
              "1437             307.0  2010     12         529.066667         649.0  \n",
              "1438             108.8  2010     12         184.366667         234.0  \n",
              "1439             352.2  2010     12         721.366667         660.0  \n",
              "1440             375.2  2010     12         806.900000         646.0  \n",
              "1441             398.0  2010     12         957.300000         591.0  \n",
              "\n",
              "[1426 rows x 9 columns]>"
            ]
          },
          "metadata": {},
          "execution_count": 89
        }
      ]
    },
    {
      "cell_type": "code",
      "source": [
        "sns.set(rc={'figure.figsize':(15,10)})\n",
        "sns.heatmap(data=df.corr(), annot=True,  vmin=-1, vmax=1)"
      ],
      "metadata": {
        "id": "YlgwlHB5pwGf",
        "colab": {
          "base_uri": "https://localhost:8080/",
          "height": 731
        },
        "outputId": "07c6deca-7d4e-4dcd-85ce-546e50ed25dd"
      },
      "execution_count": 90,
      "outputs": [
        {
          "output_type": "execute_result",
          "data": {
            "text/plain": [
              "<matplotlib.axes._subplots.AxesSubplot at 0x7f4a5eb4da90>"
            ]
          },
          "metadata": {},
          "execution_count": 90
        },
        {
          "output_type": "display_data",
          "data": {
            "text/plain": [
              "<Figure size 1080x720 with 2 Axes>"
            ],
            "image/png": "[encoded data removed]"
          },
          "metadata": {}
        }
      ]
    },
    {
      "cell_type": "code",
      "source": [
        "#Observation \n",
        "# Global_active_power, Global_intensity and sub_metering are higly correlated\n",
        "\n",
        "\n",
        "df.describe().T"
      ],
      "metadata": {
        "id": "ui2r3QNCqHv-",
        "colab": {
          "base_uri": "https://localhost:8080/",
          "height": 300
        },
        "outputId": "1bb45f43-d094-4c98-fa24-a704cbbde241"
      },
      "execution_count": 91,
      "outputs": [
        {
          "output_type": "execute_result",
          "data": {
            "text/plain": [
              "                        count          mean          std       min  \\\n",
              "Global_active_power    1426.0     71.833571    27.674119      0.60   \n",
              "Global_reactive_power  1426.0      8.349353     2.372718      3.26   \n",
              "Voltage                1426.0  16658.506129  1888.107896  11361.00   \n",
              "Global_intensity       1426.0    304.934642   114.897501      2.60   \n",
              "year                   1426.0   2008.462833     1.106450   2007.00   \n",
              "month                  1426.0      6.437588     3.410299      1.00   \n",
              "power_consumption      1426.0    603.275222   249.636355      9.00   \n",
              "Sub_metering           1426.0    589.271388   266.565543      1.00   \n",
              "\n",
              "                                25%      50%         75%           max  \n",
              "Global_active_power       54.207500     71.5     89.6380    146.872000  \n",
              "Global_reactive_power      6.629500      8.1      9.7295     14.934000  \n",
              "Voltage                15414.090000  16618.0  17931.0825  21911.440000  \n",
              "Global_intensity         231.450000    303.6    378.6000    617.200000  \n",
              "year                    2007.000000   2008.0   2009.0000   2010.000000  \n",
              "month                      3.000000      6.0      9.0000     12.000000  \n",
              "power_consumption        430.666667    578.0    760.0500   1304.166667  \n",
              "Sub_metering             412.250000    578.0    756.0000   1320.000000  "
            ],
            "text/html": [
              "\n",
              "  <div id=\"df-a36f9e7d-7cc7-444f-b92f-9152d9b183e9\">\n",
              "    <div class=\"colab-df-container\">\n",
              "      <div>\n",
              "<style scoped>\n",
              "    .dataframe tbody tr th:only-of-type {\n",
              "        vertical-align: middle;\n",
              "    }\n",
              "\n",
              "    .dataframe tbody tr th {\n",
              "        vertical-align: top;\n",
              "    }\n",
              "\n",
              "    .dataframe thead th {\n",
              "        text-align: right;\n",
              "    }\n",
              "</style>\n",
              "<table border=\"1\" class=\"dataframe\">\n",
              "  <thead>\n",
              "    <tr style=\"text-align: right;\">\n",
              "      <th></th>\n",
              "      <th>count</th>\n",
              "      <th>mean</th>\n",
              "      <th>std</th>\n",
              "      <th>min</th>\n",
              "      <th>25%</th>\n",
              "      <th>50%</th>\n",
              "      <th>75%</th>\n",
              "      <th>max</th>\n",
              "    </tr>\n",
              "  </thead>\n",
              "  <tbody>\n",
              "    <tr>\n",
              "      <th>Global_active_power</th>\n",
              "      <td>1426.0</td>\n",
              "      <td>71.833571</td>\n",
              "      <td>27.674119</td>\n",
              "      <td>0.60</td>\n",
              "      <td>54.207500</td>\n",
              "      <td>71.5</td>\n",
              "      <td>89.6380</td>\n",
              "      <td>146.872000</td>\n",
              "    </tr>\n",
              "    <tr>\n",
              "      <th>Global_reactive_power</th>\n",
              "      <td>1426.0</td>\n",
              "      <td>8.349353</td>\n",
              "      <td>2.372718</td>\n",
              "      <td>3.26</td>\n",
              "      <td>6.629500</td>\n",
              "      <td>8.1</td>\n",
              "      <td>9.7295</td>\n",
              "      <td>14.934000</td>\n",
              "    </tr>\n",
              "    <tr>\n",
              "      <th>Voltage</th>\n",
              "      <td>1426.0</td>\n",
              "      <td>16658.506129</td>\n",
              "      <td>1888.107896</td>\n",
              "      <td>11361.00</td>\n",
              "      <td>15414.090000</td>\n",
              "      <td>16618.0</td>\n",
              "      <td>17931.0825</td>\n",
              "      <td>21911.440000</td>\n",
              "    </tr>\n",
              "    <tr>\n",
              "      <th>Global_intensity</th>\n",
              "      <td>1426.0</td>\n",
              "      <td>304.934642</td>\n",
              "      <td>114.897501</td>\n",
              "      <td>2.60</td>\n",
              "      <td>231.450000</td>\n",
              "      <td>303.6</td>\n",
              "      <td>378.6000</td>\n",
              "      <td>617.200000</td>\n",
              "    </tr>\n",
              "    <tr>\n",
              "      <th>year</th>\n",
              "      <td>1426.0</td>\n",
              "      <td>2008.462833</td>\n",
              "      <td>1.106450</td>\n",
              "      <td>2007.00</td>\n",
              "      <td>2007.000000</td>\n",
              "      <td>2008.0</td>\n",
              "      <td>2009.0000</td>\n",
              "      <td>2010.000000</td>\n",
              "    </tr>\n",
              "    <tr>\n",
              "      <th>month</th>\n",
              "      <td>1426.0</td>\n",
              "      <td>6.437588</td>\n",
              "      <td>3.410299</td>\n",
              "      <td>1.00</td>\n",
              "      <td>3.000000</td>\n",
              "      <td>6.0</td>\n",
              "      <td>9.0000</td>\n",
              "      <td>12.000000</td>\n",
              "    </tr>\n",
              "    <tr>\n",
              "      <th>power_consumption</th>\n",
              "      <td>1426.0</td>\n",
              "      <td>603.275222</td>\n",
              "      <td>249.636355</td>\n",
              "      <td>9.00</td>\n",
              "      <td>430.666667</td>\n",
              "      <td>578.0</td>\n",
              "      <td>760.0500</td>\n",
              "      <td>1304.166667</td>\n",
              "    </tr>\n",
              "    <tr>\n",
              "      <th>Sub_metering</th>\n",
              "      <td>1426.0</td>\n",
              "      <td>589.271388</td>\n",
              "      <td>266.565543</td>\n",
              "      <td>1.00</td>\n",
              "      <td>412.250000</td>\n",
              "      <td>578.0</td>\n",
              "      <td>756.0000</td>\n",
              "      <td>1320.000000</td>\n",
              "    </tr>\n",
              "  </tbody>\n",
              "</table>\n",
              "</div>\n",
              "      <button class=\"colab-df-convert\" onclick=\"convertToInteractive('df-a36f9e7d-7cc7-444f-b92f-9152d9b183e9')\"\n",
              "              title=\"Convert this dataframe to an interactive table.\"\n",
              "              style=\"display:none;\">\n",
              "        \n",
              "  <svg xmlns=\"http://www.w3.org/2000/svg\" height=\"24px\"viewBox=\"0 0 24 24\"\n",
              "       width=\"24px\">\n",
              "    <path d=\"M0 0h24v24H0V0z\" fill=\"none\"/>\n",
              "    <path d=\"M18.56 5.44l.94 2.06.94-2.06 2.06-.94-2.06-.94-.94-2.06-.94 2.06-2.06.94zm-11 1L8.5 8.5l.94-2.06 2.06-.94-2.06-.94L8.5 2.5l-.94 2.06-2.06.94zm10 10l.94 2.06.94-2.06 2.06-.94-2.06-.94-.94-2.06-.94 2.06-2.06.94z\"/><path d=\"M17.41 7.96l-1.37-1.37c-.4-.4-.92-.59-1.43-.59-.52 0-1.04.2-1.43.59L10.3 9.45l-7.72 7.72c-.78.78-.78 2.05 0 2.83L4 21.41c.39.39.9.59 1.41.59.51 0 1.02-.2 1.41-.59l7.78-7.78 2.81-2.81c.8-.78.8-2.07 0-2.86zM5.41 20L4 18.59l7.72-7.72 1.47 1.35L5.41 20z\"/>\n",
              "  </svg>\n",
              "      </button>\n",
              "      \n",
              "  <style>\n",
              "    .colab-df-container {\n",
              "      display:flex;\n",
              "      flex-wrap:wrap;\n",
              "      gap: 12px;\n",
              "    }\n",
              "\n",
              "    .colab-df-convert {\n",
              "      background-color: #E8F0FE;\n",
              "      border: none;\n",
              "      border-radius: 50%;\n",
              "      cursor: pointer;\n",
              "      display: none;\n",
              "      fill: #1967D2;\n",
              "      height: 32px;\n",
              "      padding: 0 0 0 0;\n",
              "      width: 32px;\n",
              "    }\n",
              "\n",
              "    .colab-df-convert:hover {\n",
              "      background-color: #E2EBFA;\n",
              "      box-shadow: 0px 1px 2px rgba(60, 64, 67, 0.3), 0px 1px 3px 1px rgba(60, 64, 67, 0.15);\n",
              "      fill: #174EA6;\n",
              "    }\n",
              "\n",
              "    [theme=dark] .colab-df-convert {\n",
              "      background-color: #3B4455;\n",
              "      fill: #D2E3FC;\n",
              "    }\n",
              "\n",
              "    [theme=dark] .colab-df-convert:hover {\n",
              "      background-color: #434B5C;\n",
              "      box-shadow: 0px 1px 3px 1px rgba(0, 0, 0, 0.15);\n",
              "      filter: drop-shadow(0px 1px 2px rgba(0, 0, 0, 0.3));\n",
              "      fill: #FFFFFF;\n",
              "    }\n",
              "  </style>\n",
              "\n",
              "      <script>\n",
              "        const buttonEl =\n",
              "          document.querySelector('#df-a36f9e7d-7cc7-444f-b92f-9152d9b183e9 button.colab-df-convert');\n",
              "        buttonEl.style.display =\n",
              "          google.colab.kernel.accessAllowed ? 'block' : 'none';\n",
              "\n",
              "        async function convertToInteractive(key) {\n",
              "          const element = document.querySelector('#df-a36f9e7d-7cc7-444f-b92f-9152d9b183e9');\n",
              "          const dataTable =\n",
              "            await google.colab.kernel.invokeFunction('convertToInteractive',\n",
              "                                                     [key], {});\n",
              "          if (!dataTable) return;\n",
              "\n",
              "          const docLinkHtml = 'Like what you see? Visit the ' +\n",
              "            '<a target=\"_blank\" href=https://colab.research.google.com/notebooks/data_table.ipynb>data table notebook</a>'\n",
              "            + ' to learn more about interactive tables.';\n",
              "          element.innerHTML = '';\n",
              "          dataTable['output_type'] = 'display_data';\n",
              "          await google.colab.output.renderOutput(dataTable, element);\n",
              "          const docLink = document.createElement('div');\n",
              "          docLink.innerHTML = docLinkHtml;\n",
              "          element.appendChild(docLink);\n",
              "        }\n",
              "      </script>\n",
              "    </div>\n",
              "  </div>\n",
              "  "
            ]
          },
          "metadata": {},
          "execution_count": 91
        }
      ]
    },
    {
      "cell_type": "code",
      "source": [
        "# Observation \n",
        "# 1) Maximum power consumption in a day is 2146 w/h\n",
        "# 2) Average consumption is 631 w/h\n",
        "# 3) Minimum cosmption is 21 w/h\n",
        "\n",
        "# Segregating Independent and Dependent Features\n",
        "\n",
        "\n",
        "X = df.iloc[ : , [1,2,3,4,6,8]]\n",
        "y = df.iloc[ : , -2]"
      ],
      "metadata": {
        "id": "x77f-aqPqHyp"
      },
      "execution_count": 92,
      "outputs": []
    },
    {
      "cell_type": "code",
      "source": [
        "X.shape"
      ],
      "metadata": {
        "id": "HSuvsnOpqH1h",
        "colab": {
          "base_uri": "https://localhost:8080/"
        },
        "outputId": "a4667308-dc2b-4c2d-c16c-12fd454d84b4"
      },
      "execution_count": 93,
      "outputs": [
        {
          "output_type": "execute_result",
          "data": {
            "text/plain": [
              "(1426, 6)"
            ]
          },
          "metadata": {},
          "execution_count": 93
        }
      ]
    },
    {
      "cell_type": "code",
      "source": [
        "y.shape"
      ],
      "metadata": {
        "id": "a_uC-8ufqH4I",
        "colab": {
          "base_uri": "https://localhost:8080/"
        },
        "outputId": "f943e3c8-1e19-4658-fdd6-b31b2bd199e6"
      },
      "execution_count": 94,
      "outputs": [
        {
          "output_type": "execute_result",
          "data": {
            "text/plain": [
              "(1426,)"
            ]
          },
          "metadata": {},
          "execution_count": 94
        }
      ]
    },
    {
      "cell_type": "code",
      "source": [
        "X.head"
      ],
      "metadata": {
        "id": "vAGkcl8QqH7H",
        "colab": {
          "base_uri": "https://localhost:8080/"
        },
        "outputId": "1bbc581f-6abe-470a-d689-04d56b5fcb75"
      },
      "execution_count": 95,
      "outputs": [
        {
          "output_type": "execute_result",
          "data": {
            "text/plain": [
              "<bound method NDFrame.head of       Global_active_power  Global_reactive_power   Voltage  Global_intensity  \\\n",
              "16                136.092                  8.790  17063.52             563.4   \n",
              "17                 96.230                  7.922  20438.87             403.2   \n",
              "18                 25.416                  4.938  17871.77             105.0   \n",
              "19                 97.752                  8.124  14654.69             410.4   \n",
              "20                 72.016                  7.874  15283.45             316.2   \n",
              "...                   ...                    ...       ...               ...   \n",
              "1437               70.684                  8.100  18744.24             307.0   \n",
              "1438               25.102                  6.894  15893.26             108.8   \n",
              "1439               82.882                  9.076  19335.42             352.2   \n",
              "1440               87.174                  9.936  15140.72             375.2   \n",
              "1441               92.898                  6.646  15726.99             398.0   \n",
              "\n",
              "      month  Sub_metering  \n",
              "16        1         226.0  \n",
              "17        1         703.0  \n",
              "18        1         104.0  \n",
              "19        1        1013.0  \n",
              "20        1         666.0  \n",
              "...     ...           ...  \n",
              "1437     12         649.0  \n",
              "1438     12         234.0  \n",
              "1439     12         660.0  \n",
              "1440     12         646.0  \n",
              "1441     12         591.0  \n",
              "\n",
              "[1426 rows x 6 columns]>"
            ]
          },
          "metadata": {},
          "execution_count": 95
        }
      ]
    },
    {
      "cell_type": "code",
      "source": [
        "y.head"
      ],
      "metadata": {
        "id": "3bUt17YTqH-i",
        "colab": {
          "base_uri": "https://localhost:8080/"
        },
        "outputId": "c9fffab1-854a-44f1-9aa5-947e4a6183cd"
      },
      "execution_count": 96,
      "outputs": [
        {
          "output_type": "execute_result",
          "data": {
            "text/plain": [
              "<bound method NDFrame.head of 16      578.000000\n",
              "17      900.833333\n",
              "18      319.600000\n",
              "19      616.200000\n",
              "20      534.266667\n",
              "           ...    \n",
              "1437    529.066667\n",
              "1438    184.366667\n",
              "1439    721.366667\n",
              "1440    806.900000\n",
              "1441    957.300000\n",
              "Name: power_consumption, Length: 1426, dtype: float64>"
            ]
          },
          "metadata": {},
          "execution_count": 96
        }
      ]
    },
    {
      "cell_type": "code",
      "source": [
        "##### Regplot\n",
        "\n",
        "\n",
        "fig, ax = plt.subplots(ncols=3, nrows=2, figsize=(20,10))\n",
        "index = 0\n",
        "ax = ax.flatten()\n",
        "for col, value in df.items():\n",
        "    if col not in ['Date', 'year', 'month']:\n",
        "        sns.regplot(x = df[col],y = df[\"power_consumption\"], data = df , ax = ax[index])\n",
        "        index += 1\n",
        "plt.tight_layout(pad=0.5, w_pad=0.7, h_pad=5.0)"
      ],
      "metadata": {
        "id": "sCTMW38ZpwJH"
      },
      "execution_count": null,
      "outputs": []
    },
    {
      "cell_type": "code",
      "source": [
        "# ## Train Test Split\n",
        "\n",
        "from sklearn.model_selection import train_test_split"
      ],
      "metadata": {
        "id": "9-NS0qefqdSZ"
      },
      "execution_count": 97,
      "outputs": []
    },
    {
      "cell_type": "code",
      "source": [
        "X_train,X_test,y_train,y_test = train_test_split(X,y,random_state=7,test_size=0.33)"
      ],
      "metadata": {
        "id": "T3cv6lpnqdWC"
      },
      "execution_count": 98,
      "outputs": []
    },
    {
      "cell_type": "code",
      "source": [
        "\n",
        "from sklearn.preprocessing import StandardScaler"
      ],
      "metadata": {
        "id": "sOJcVAlXqdY0"
      },
      "execution_count": 99,
      "outputs": []
    },
    {
      "cell_type": "code",
      "source": [
        "scaler=StandardScaler()"
      ],
      "metadata": {
        "id": "_xgAsnWDqdcL"
      },
      "execution_count": 100,
      "outputs": []
    },
    {
      "cell_type": "code",
      "source": [
        "X_train = scaler.fit_transform(X_train)"
      ],
      "metadata": {
        "id": "v-3pCa9Rqdef"
      },
      "execution_count": 101,
      "outputs": []
    },
    {
      "cell_type": "code",
      "source": [
        "X_test = scaler.transform(X_test)"
      ],
      "metadata": {
        "id": "i4OqNR8yqdhr"
      },
      "execution_count": 102,
      "outputs": []
    },
    {
      "cell_type": "code",
      "source": [
        "len(X_train)"
      ],
      "metadata": {
        "id": "rL87AepirD7i",
        "colab": {
          "base_uri": "https://localhost:8080/"
        },
        "outputId": "e43a2f09-a795-46de-ed0b-9ac2d8d8f842"
      },
      "execution_count": 103,
      "outputs": [
        {
          "output_type": "execute_result",
          "data": {
            "text/plain": [
              "955"
            ]
          },
          "metadata": {},
          "execution_count": 103
        }
      ]
    },
    {
      "cell_type": "code",
      "source": [
        "# ## 8) Save Preprocess Model Data Using Pickle\n",
        "\n",
        "\n",
        "preprocess_model = [X_train,y_train,X_test,y_test]"
      ],
      "metadata": {
        "id": "wBdGzeB9rD-I"
      },
      "execution_count": 109,
      "outputs": []
    },
    {
      "cell_type": "code",
      "source": [
        "\n",
        "import pickle\n",
        "pickle.dump(preprocess_model, open('preprocess_model.pkl','wb'))"
      ],
      "metadata": {
        "id": "bk3x5YM0rEBx"
      },
      "execution_count": 111,
      "outputs": []
    },
    {
      "cell_type": "code",
      "source": [
        "preprocess_model = pickle.load(open('preprocess_model.pkl','rb'))"
      ],
      "metadata": {
        "id": "eZPegEvfpwMk"
      },
      "execution_count": 112,
      "outputs": []
    },
    {
      "cell_type": "code",
      "source": [
        "# Save Data into MongoDb\n",
        "y_train.T"
      ],
      "metadata": {
        "id": "Wh7HHOlUrTwP",
        "colab": {
          "base_uri": "https://localhost:8080/"
        },
        "outputId": "70e01f9a-d119-4c6a-b8ab-5e56b89fbe35"
      },
      "execution_count": 113,
      "outputs": [
        {
          "output_type": "execute_result",
          "data": {
            "text/plain": [
              "398     962.366667\n",
              "183     705.466667\n",
              "88      714.700000\n",
              "86      857.733333\n",
              "667     779.566667\n",
              "           ...    \n",
              "227     285.400000\n",
              "518     489.300000\n",
              "553     331.133333\n",
              "1236    434.233333\n",
              "191     385.766667\n",
              "Name: power_consumption, Length: 955, dtype: float64"
            ]
          },
          "metadata": {},
          "execution_count": 113
        }
      ]
    },
    {
      "cell_type": "code",
      "source": [
        "database_df = pd.DataFrame([X_train.T[0],X_train.T[1],X_train.T[2],X_train.T[3], X_train.T[4], X_train.T[5],y_train]).T"
      ],
      "metadata": {
        "id": "cDgi67DWrTzE"
      },
      "execution_count": 114,
      "outputs": []
    },
    {
      "cell_type": "code",
      "source": [
        "database_df.columns=['Global_active_power', 'Global_reactive_power','Voltage', 'Global_intensity', 'month', 'Sub_metering', 'power_consumption']\n"
      ],
      "metadata": {
        "id": "klD6_0usrT2V"
      },
      "execution_count": 115,
      "outputs": []
    },
    {
      "cell_type": "code",
      "source": [
        "database_df.head()"
      ],
      "metadata": {
        "id": "Ia6XEHrwrT4x",
        "colab": {
          "base_uri": "https://localhost:8080/",
          "height": 206
        },
        "outputId": "a015808d-dfed-46e9-a049-d404930e65e5"
      },
      "execution_count": 116,
      "outputs": [
        {
          "output_type": "execute_result",
          "data": {
            "text/plain": [
              "   Global_active_power  Global_reactive_power   Voltage  Global_intensity  \\\n",
              "0             1.267715              -1.119104  1.008056          1.290668   \n",
              "1             1.033360               2.302625  1.901971          1.065227   \n",
              "2             0.345639              -0.224568  0.779935          0.319672   \n",
              "3             0.436445              -0.424951  0.282685          0.442156   \n",
              "4             0.413946              -0.029258  1.025325          0.388902   \n",
              "\n",
              "      month  Sub_metering  power_consumption  \n",
              "0 -1.610153      0.803794         962.366667  \n",
              "1 -0.137828      1.382305         705.466667  \n",
              "2 -1.021223      0.156321         714.700000  \n",
              "3 -1.021223     -0.234461         857.733333  \n",
              "4  1.040032      0.026060         779.566667  "
            ],
            "text/html": [
              "\n",
              "  <div id=\"df-8cb9f751-f24d-41dc-a29e-db72ff6bce0a\">\n",
              "    <div class=\"colab-df-container\">\n",
              "      <div>\n",
              "<style scoped>\n",
              "    .dataframe tbody tr th:only-of-type {\n",
              "        vertical-align: middle;\n",
              "    }\n",
              "\n",
              "    .dataframe tbody tr th {\n",
              "        vertical-align: top;\n",
              "    }\n",
              "\n",
              "    .dataframe thead th {\n",
              "        text-align: right;\n",
              "    }\n",
              "</style>\n",
              "<table border=\"1\" class=\"dataframe\">\n",
              "  <thead>\n",
              "    <tr style=\"text-align: right;\">\n",
              "      <th></th>\n",
              "      <th>Global_active_power</th>\n",
              "      <th>Global_reactive_power</th>\n",
              "      <th>Voltage</th>\n",
              "      <th>Global_intensity</th>\n",
              "      <th>month</th>\n",
              "      <th>Sub_metering</th>\n",
              "      <th>power_consumption</th>\n",
              "    </tr>\n",
              "  </thead>\n",
              "  <tbody>\n",
              "    <tr>\n",
              "      <th>0</th>\n",
              "      <td>1.267715</td>\n",
              "      <td>-1.119104</td>\n",
              "      <td>1.008056</td>\n",
              "      <td>1.290668</td>\n",
              "      <td>-1.610153</td>\n",
              "      <td>0.803794</td>\n",
              "      <td>962.366667</td>\n",
              "    </tr>\n",
              "    <tr>\n",
              "      <th>1</th>\n",
              "      <td>1.033360</td>\n",
              "      <td>2.302625</td>\n",
              "      <td>1.901971</td>\n",
              "      <td>1.065227</td>\n",
              "      <td>-0.137828</td>\n",
              "      <td>1.382305</td>\n",
              "      <td>705.466667</td>\n",
              "    </tr>\n",
              "    <tr>\n",
              "      <th>2</th>\n",
              "      <td>0.345639</td>\n",
              "      <td>-0.224568</td>\n",
              "      <td>0.779935</td>\n",
              "      <td>0.319672</td>\n",
              "      <td>-1.021223</td>\n",
              "      <td>0.156321</td>\n",
              "      <td>714.700000</td>\n",
              "    </tr>\n",
              "    <tr>\n",
              "      <th>3</th>\n",
              "      <td>0.436445</td>\n",
              "      <td>-0.424951</td>\n",
              "      <td>0.282685</td>\n",
              "      <td>0.442156</td>\n",
              "      <td>-1.021223</td>\n",
              "      <td>-0.234461</td>\n",
              "      <td>857.733333</td>\n",
              "    </tr>\n",
              "    <tr>\n",
              "      <th>4</th>\n",
              "      <td>0.413946</td>\n",
              "      <td>-0.029258</td>\n",
              "      <td>1.025325</td>\n",
              "      <td>0.388902</td>\n",
              "      <td>1.040032</td>\n",
              "      <td>0.026060</td>\n",
              "      <td>779.566667</td>\n",
              "    </tr>\n",
              "  </tbody>\n",
              "</table>\n",
              "</div>\n",
              "      <button class=\"colab-df-convert\" onclick=\"convertToInteractive('df-8cb9f751-f24d-41dc-a29e-db72ff6bce0a')\"\n",
              "              title=\"Convert this dataframe to an interactive table.\"\n",
              "              style=\"display:none;\">\n",
              "        \n",
              "  <svg xmlns=\"http://www.w3.org/2000/svg\" height=\"24px\"viewBox=\"0 0 24 24\"\n",
              "       width=\"24px\">\n",
              "    <path d=\"M0 0h24v24H0V0z\" fill=\"none\"/>\n",
              "    <path d=\"M18.56 5.44l.94 2.06.94-2.06 2.06-.94-2.06-.94-.94-2.06-.94 2.06-2.06.94zm-11 1L8.5 8.5l.94-2.06 2.06-.94-2.06-.94L8.5 2.5l-.94 2.06-2.06.94zm10 10l.94 2.06.94-2.06 2.06-.94-2.06-.94-.94-2.06-.94 2.06-2.06.94z\"/><path d=\"M17.41 7.96l-1.37-1.37c-.4-.4-.92-.59-1.43-.59-.52 0-1.04.2-1.43.59L10.3 9.45l-7.72 7.72c-.78.78-.78 2.05 0 2.83L4 21.41c.39.39.9.59 1.41.59.51 0 1.02-.2 1.41-.59l7.78-7.78 2.81-2.81c.8-.78.8-2.07 0-2.86zM5.41 20L4 18.59l7.72-7.72 1.47 1.35L5.41 20z\"/>\n",
              "  </svg>\n",
              "      </button>\n",
              "      \n",
              "  <style>\n",
              "    .colab-df-container {\n",
              "      display:flex;\n",
              "      flex-wrap:wrap;\n",
              "      gap: 12px;\n",
              "    }\n",
              "\n",
              "    .colab-df-convert {\n",
              "      background-color: #E8F0FE;\n",
              "      border: none;\n",
              "      border-radius: 50%;\n",
              "      cursor: pointer;\n",
              "      display: none;\n",
              "      fill: #1967D2;\n",
              "      height: 32px;\n",
              "      padding: 0 0 0 0;\n",
              "      width: 32px;\n",
              "    }\n",
              "\n",
              "    .colab-df-convert:hover {\n",
              "      background-color: #E2EBFA;\n",
              "      box-shadow: 0px 1px 2px rgba(60, 64, 67, 0.3), 0px 1px 3px 1px rgba(60, 64, 67, 0.15);\n",
              "      fill: #174EA6;\n",
              "    }\n",
              "\n",
              "    [theme=dark] .colab-df-convert {\n",
              "      background-color: #3B4455;\n",
              "      fill: #D2E3FC;\n",
              "    }\n",
              "\n",
              "    [theme=dark] .colab-df-convert:hover {\n",
              "      background-color: #434B5C;\n",
              "      box-shadow: 0px 1px 3px 1px rgba(0, 0, 0, 0.15);\n",
              "      filter: drop-shadow(0px 1px 2px rgba(0, 0, 0, 0.3));\n",
              "      fill: #FFFFFF;\n",
              "    }\n",
              "  </style>\n",
              "\n",
              "      <script>\n",
              "        const buttonEl =\n",
              "          document.querySelector('#df-8cb9f751-f24d-41dc-a29e-db72ff6bce0a button.colab-df-convert');\n",
              "        buttonEl.style.display =\n",
              "          google.colab.kernel.accessAllowed ? 'block' : 'none';\n",
              "\n",
              "        async function convertToInteractive(key) {\n",
              "          const element = document.querySelector('#df-8cb9f751-f24d-41dc-a29e-db72ff6bce0a');\n",
              "          const dataTable =\n",
              "            await google.colab.kernel.invokeFunction('convertToInteractive',\n",
              "                                                     [key], {});\n",
              "          if (!dataTable) return;\n",
              "\n",
              "          const docLinkHtml = 'Like what you see? Visit the ' +\n",
              "            '<a target=\"_blank\" href=https://colab.research.google.com/notebooks/data_table.ipynb>data table notebook</a>'\n",
              "            + ' to learn more about interactive tables.';\n",
              "          element.innerHTML = '';\n",
              "          dataTable['output_type'] = 'display_data';\n",
              "          await google.colab.output.renderOutput(dataTable, element);\n",
              "          const docLink = document.createElement('div');\n",
              "          docLink.innerHTML = docLinkHtml;\n",
              "          element.appendChild(docLink);\n",
              "        }\n",
              "      </script>\n",
              "    </div>\n",
              "  </div>\n",
              "  "
            ]
          },
          "metadata": {},
          "execution_count": 116
        }
      ]
    },
    {
      "cell_type": "code",
      "source": [
        "l=[]\n",
        "for i ,row in database_df.iterrows():\n",
        "    l.append(dict(row))"
      ],
      "metadata": {
        "id": "8eVokYU2rT77"
      },
      "execution_count": 117,
      "outputs": []
    },
    {
      "cell_type": "code",
      "source": [
        "get_ipython().system('pip install pymongo')"
      ],
      "metadata": {
        "id": "6u9fUayhrT-X",
        "colab": {
          "base_uri": "https://localhost:8080/"
        },
        "outputId": "16556df9-cee8-4eb3-9961-c7955ad7dbff"
      },
      "execution_count": 118,
      "outputs": [
        {
          "output_type": "stream",
          "name": "stdout",
          "text": [
            "Looking in indexes: https://pypi.org/simple, https://us-python.pkg.dev/colab-wheels/public/simple/\n",
            "Requirement already satisfied: pymongo in /usr/local/lib/python3.8/dist-packages (4.3.3)\n",
            "Requirement already satisfied: dnspython<3.0.0,>=1.16.0 in /usr/local/lib/python3.8/dist-packages (from pymongo) (2.2.1)\n"
          ]
        }
      ]
    },
    {
      "cell_type": "code",
      "source": [
        "import pymongo\n",
        "from pymongo import MongoClient"
      ],
      "metadata": {
        "id": "JTsEJsLWroaA"
      },
      "execution_count": 123,
      "outputs": []
    },
    {
      "cell_type": "code",
      "source": [
        "client = pymongo.MongoClient(\"mongodb://localhost:27017\")"
      ],
      "metadata": {
        "id": "oo2uPkberoc2"
      },
      "execution_count": 124,
      "outputs": []
    },
    {
      "cell_type": "code",
      "source": [
        "\n",
        "db=client['Household_Power_Preprocessed_Data']\n",
        "collections = db['Training Independent_and_Dependent_Dataset']\n",
        "collections.insert_many(l)\n"
      ],
      "metadata": {
        "colab": {
          "base_uri": "https://localhost:8080/",
          "height": 363
        },
        "id": "5s-eHFkxpsw8",
        "outputId": "f5a916f5-827f-46a3-9356-352b5f22b5b1"
      },
      "execution_count": 125,
      "outputs": [
        {
          "output_type": "error",
          "ename": "ServerSelectionTimeoutError",
          "evalue": "ignored",
          "traceback": [
            "\u001b[0;31m---------------------------------------------------------------------------\u001b[0m",
            "\u001b[0;31mServerSelectionTimeoutError\u001b[0m               Traceback (most recent call last)",
            "\u001b[0;32m<ipython-input-125-18a363f4bbc2>\u001b[0m in \u001b[0;36m<module>\u001b[0;34m\u001b[0m\n\u001b[1;32m      1\u001b[0m \u001b[0mdb\u001b[0m\u001b[0;34m=\u001b[0m\u001b[0mclient\u001b[0m\u001b[0;34m[\u001b[0m\u001b[0;34m'Household_Power_Preprocessed_Data'\u001b[0m\u001b[0;34m]\u001b[0m\u001b[0;34m\u001b[0m\u001b[0;34m\u001b[0m\u001b[0m\n\u001b[1;32m      2\u001b[0m \u001b[0mcollections\u001b[0m \u001b[0;34m=\u001b[0m \u001b[0mdb\u001b[0m\u001b[0;34m[\u001b[0m\u001b[0;34m'Training Independent_and_Dependent_Dataset'\u001b[0m\u001b[0;34m]\u001b[0m\u001b[0;34m\u001b[0m\u001b[0;34m\u001b[0m\u001b[0m\n\u001b[0;32m----> 3\u001b[0;31m \u001b[0mcollections\u001b[0m\u001b[0;34m.\u001b[0m\u001b[0minsert_many\u001b[0m\u001b[0;34m(\u001b[0m\u001b[0ml\u001b[0m\u001b[0;34m)\u001b[0m\u001b[0;34m\u001b[0m\u001b[0;34m\u001b[0m\u001b[0m\n\u001b[0m",
            "\u001b[0;32m/usr/local/lib/python3.8/dist-packages/pymongo/_csot.py\u001b[0m in \u001b[0;36mcsot_wrapper\u001b[0;34m(self, *args, **kwargs)\u001b[0m\n\u001b[1;32m    103\u001b[0m                 \u001b[0;32mwith\u001b[0m \u001b[0m_TimeoutContext\u001b[0m\u001b[0;34m(\u001b[0m\u001b[0mtimeout\u001b[0m\u001b[0;34m)\u001b[0m\u001b[0;34m:\u001b[0m\u001b[0;34m\u001b[0m\u001b[0;34m\u001b[0m\u001b[0m\n\u001b[1;32m    104\u001b[0m                     \u001b[0;32mreturn\u001b[0m \u001b[0mfunc\u001b[0m\u001b[0;34m(\u001b[0m\u001b[0mself\u001b[0m\u001b[0;34m,\u001b[0m \u001b[0;34m*\u001b[0m\u001b[0margs\u001b[0m\u001b[0;34m,\u001b[0m \u001b[0;34m**\u001b[0m\u001b[0mkwargs\u001b[0m\u001b[0;34m)\u001b[0m\u001b[0;34m\u001b[0m\u001b[0;34m\u001b[0m\u001b[0m\n\u001b[0;32m--> 105\u001b[0;31m         \u001b[0;32mreturn\u001b[0m \u001b[0mfunc\u001b[0m\u001b[0;34m(\u001b[0m\u001b[0mself\u001b[0m\u001b[0;34m,\u001b[0m \u001b[0;34m*\u001b[0m\u001b[0margs\u001b[0m\u001b[0;34m,\u001b[0m \u001b[0;34m**\u001b[0m\u001b[0mkwargs\u001b[0m\u001b[0;34m)\u001b[0m\u001b[0;34m\u001b[0m\u001b[0;34m\u001b[0m\u001b[0m\n\u001b[0m\u001b[1;32m    106\u001b[0m \u001b[0;34m\u001b[0m\u001b[0m\n\u001b[1;32m    107\u001b[0m     \u001b[0;32mreturn\u001b[0m \u001b[0mcast\u001b[0m\u001b[0;34m(\u001b[0m\u001b[0mF\u001b[0m\u001b[0;34m,\u001b[0m \u001b[0mcsot_wrapper\u001b[0m\u001b[0;34m)\u001b[0m\u001b[0;34m\u001b[0m\u001b[0;34m\u001b[0m\u001b[0m\n",
            "\u001b[0;32m/usr/local/lib/python3.8/dist-packages/pymongo/collection.py\u001b[0m in \u001b[0;36minsert_many\u001b[0;34m(self, documents, ordered, bypass_document_validation, session, comment)\u001b[0m\n\u001b[1;32m    712\u001b[0m         \u001b[0mblk\u001b[0m \u001b[0;34m=\u001b[0m \u001b[0m_Bulk\u001b[0m\u001b[0;34m(\u001b[0m\u001b[0mself\u001b[0m\u001b[0;34m,\u001b[0m \u001b[0mordered\u001b[0m\u001b[0;34m,\u001b[0m \u001b[0mbypass_document_validation\u001b[0m\u001b[0;34m,\u001b[0m \u001b[0mcomment\u001b[0m\u001b[0;34m=\u001b[0m\u001b[0mcomment\u001b[0m\u001b[0;34m)\u001b[0m\u001b[0;34m\u001b[0m\u001b[0;34m\u001b[0m\u001b[0m\n\u001b[1;32m    713\u001b[0m         \u001b[0mblk\u001b[0m\u001b[0;34m.\u001b[0m\u001b[0mops\u001b[0m \u001b[0;34m=\u001b[0m \u001b[0;34m[\u001b[0m\u001b[0mdoc\u001b[0m \u001b[0;32mfor\u001b[0m \u001b[0mdoc\u001b[0m \u001b[0;32min\u001b[0m \u001b[0mgen\u001b[0m\u001b[0;34m(\u001b[0m\u001b[0;34m)\u001b[0m\u001b[0;34m]\u001b[0m\u001b[0;34m\u001b[0m\u001b[0;34m\u001b[0m\u001b[0m\n\u001b[0;32m--> 714\u001b[0;31m         \u001b[0mblk\u001b[0m\u001b[0;34m.\u001b[0m\u001b[0mexecute\u001b[0m\u001b[0;34m(\u001b[0m\u001b[0mwrite_concern\u001b[0m\u001b[0;34m,\u001b[0m \u001b[0msession\u001b[0m\u001b[0;34m=\u001b[0m\u001b[0msession\u001b[0m\u001b[0;34m)\u001b[0m\u001b[0;34m\u001b[0m\u001b[0;34m\u001b[0m\u001b[0m\n\u001b[0m\u001b[1;32m    715\u001b[0m         \u001b[0;32mreturn\u001b[0m \u001b[0mInsertManyResult\u001b[0m\u001b[0;34m(\u001b[0m\u001b[0minserted_ids\u001b[0m\u001b[0;34m,\u001b[0m \u001b[0mwrite_concern\u001b[0m\u001b[0;34m.\u001b[0m\u001b[0macknowledged\u001b[0m\u001b[0;34m)\u001b[0m\u001b[0;34m\u001b[0m\u001b[0;34m\u001b[0m\u001b[0m\n\u001b[1;32m    716\u001b[0m \u001b[0;34m\u001b[0m\u001b[0m\n",
            "\u001b[0;32m/usr/local/lib/python3.8/dist-packages/pymongo/bulk.py\u001b[0m in \u001b[0;36mexecute\u001b[0;34m(self, write_concern, session)\u001b[0m\n\u001b[1;32m    511\u001b[0m                 \u001b[0mself\u001b[0m\u001b[0;34m.\u001b[0m\u001b[0mexecute_no_results\u001b[0m\u001b[0;34m(\u001b[0m\u001b[0msock_info\u001b[0m\u001b[0;34m,\u001b[0m \u001b[0mgenerator\u001b[0m\u001b[0;34m,\u001b[0m \u001b[0mwrite_concern\u001b[0m\u001b[0;34m)\u001b[0m\u001b[0;34m\u001b[0m\u001b[0;34m\u001b[0m\u001b[0m\n\u001b[1;32m    512\u001b[0m         \u001b[0;32melse\u001b[0m\u001b[0;34m:\u001b[0m\u001b[0;34m\u001b[0m\u001b[0;34m\u001b[0m\u001b[0m\n\u001b[0;32m--> 513\u001b[0;31m             \u001b[0;32mreturn\u001b[0m \u001b[0mself\u001b[0m\u001b[0;34m.\u001b[0m\u001b[0mexecute_command\u001b[0m\u001b[0;34m(\u001b[0m\u001b[0mgenerator\u001b[0m\u001b[0;34m,\u001b[0m \u001b[0mwrite_concern\u001b[0m\u001b[0;34m,\u001b[0m \u001b[0msession\u001b[0m\u001b[0;34m)\u001b[0m\u001b[0;34m\u001b[0m\u001b[0;34m\u001b[0m\u001b[0m\n\u001b[0m",
            "\u001b[0;32m/usr/local/lib/python3.8/dist-packages/pymongo/bulk.py\u001b[0m in \u001b[0;36mexecute_command\u001b[0;34m(self, generator, write_concern, session)\u001b[0m\n\u001b[1;32m    388\u001b[0m \u001b[0;34m\u001b[0m\u001b[0m\n\u001b[1;32m    389\u001b[0m         \u001b[0mclient\u001b[0m \u001b[0;34m=\u001b[0m \u001b[0mself\u001b[0m\u001b[0;34m.\u001b[0m\u001b[0mcollection\u001b[0m\u001b[0;34m.\u001b[0m\u001b[0mdatabase\u001b[0m\u001b[0;34m.\u001b[0m\u001b[0mclient\u001b[0m\u001b[0;34m\u001b[0m\u001b[0;34m\u001b[0m\u001b[0m\n\u001b[0;32m--> 390\u001b[0;31m         \u001b[0;32mwith\u001b[0m \u001b[0mclient\u001b[0m\u001b[0;34m.\u001b[0m\u001b[0m_tmp_session\u001b[0m\u001b[0;34m(\u001b[0m\u001b[0msession\u001b[0m\u001b[0;34m)\u001b[0m \u001b[0;32mas\u001b[0m \u001b[0ms\u001b[0m\u001b[0;34m:\u001b[0m\u001b[0;34m\u001b[0m\u001b[0;34m\u001b[0m\u001b[0m\n\u001b[0m\u001b[1;32m    391\u001b[0m             \u001b[0mclient\u001b[0m\u001b[0;34m.\u001b[0m\u001b[0m_retry_with_session\u001b[0m\u001b[0;34m(\u001b[0m\u001b[0mself\u001b[0m\u001b[0;34m.\u001b[0m\u001b[0mis_retryable\u001b[0m\u001b[0;34m,\u001b[0m \u001b[0mretryable_bulk\u001b[0m\u001b[0;34m,\u001b[0m \u001b[0ms\u001b[0m\u001b[0;34m,\u001b[0m \u001b[0mself\u001b[0m\u001b[0;34m)\u001b[0m\u001b[0;34m\u001b[0m\u001b[0;34m\u001b[0m\u001b[0m\n\u001b[1;32m    392\u001b[0m \u001b[0;34m\u001b[0m\u001b[0m\n",
            "\u001b[0;32m/usr/lib/python3.8/contextlib.py\u001b[0m in \u001b[0;36m__enter__\u001b[0;34m(self)\u001b[0m\n\u001b[1;32m    111\u001b[0m         \u001b[0;32mdel\u001b[0m \u001b[0mself\u001b[0m\u001b[0;34m.\u001b[0m\u001b[0margs\u001b[0m\u001b[0;34m,\u001b[0m \u001b[0mself\u001b[0m\u001b[0;34m.\u001b[0m\u001b[0mkwds\u001b[0m\u001b[0;34m,\u001b[0m \u001b[0mself\u001b[0m\u001b[0;34m.\u001b[0m\u001b[0mfunc\u001b[0m\u001b[0;34m\u001b[0m\u001b[0;34m\u001b[0m\u001b[0m\n\u001b[1;32m    112\u001b[0m         \u001b[0;32mtry\u001b[0m\u001b[0;34m:\u001b[0m\u001b[0;34m\u001b[0m\u001b[0;34m\u001b[0m\u001b[0m\n\u001b[0;32m--> 113\u001b[0;31m             \u001b[0;32mreturn\u001b[0m \u001b[0mnext\u001b[0m\u001b[0;34m(\u001b[0m\u001b[0mself\u001b[0m\u001b[0;34m.\u001b[0m\u001b[0mgen\u001b[0m\u001b[0;34m)\u001b[0m\u001b[0;34m\u001b[0m\u001b[0;34m\u001b[0m\u001b[0m\n\u001b[0m\u001b[1;32m    114\u001b[0m         \u001b[0;32mexcept\u001b[0m \u001b[0mStopIteration\u001b[0m\u001b[0;34m:\u001b[0m\u001b[0;34m\u001b[0m\u001b[0;34m\u001b[0m\u001b[0m\n\u001b[1;32m    115\u001b[0m             \u001b[0;32mraise\u001b[0m \u001b[0mRuntimeError\u001b[0m\u001b[0;34m(\u001b[0m\u001b[0;34m\"generator didn't yield\"\u001b[0m\u001b[0;34m)\u001b[0m \u001b[0;32mfrom\u001b[0m \u001b[0;32mNone\u001b[0m\u001b[0;34m\u001b[0m\u001b[0;34m\u001b[0m\u001b[0m\n",
            "\u001b[0;32m/usr/local/lib/python3.8/dist-packages/pymongo/mongo_client.py\u001b[0m in \u001b[0;36m_tmp_session\u001b[0;34m(self, session, close)\u001b[0m\n\u001b[1;32m   1755\u001b[0m             \u001b[0;32mreturn\u001b[0m\u001b[0;34m\u001b[0m\u001b[0;34m\u001b[0m\u001b[0m\n\u001b[1;32m   1756\u001b[0m \u001b[0;34m\u001b[0m\u001b[0m\n\u001b[0;32m-> 1757\u001b[0;31m         \u001b[0ms\u001b[0m \u001b[0;34m=\u001b[0m \u001b[0mself\u001b[0m\u001b[0;34m.\u001b[0m\u001b[0m_ensure_session\u001b[0m\u001b[0;34m(\u001b[0m\u001b[0msession\u001b[0m\u001b[0;34m)\u001b[0m\u001b[0;34m\u001b[0m\u001b[0;34m\u001b[0m\u001b[0m\n\u001b[0m\u001b[1;32m   1758\u001b[0m         \u001b[0;32mif\u001b[0m \u001b[0ms\u001b[0m\u001b[0;34m:\u001b[0m\u001b[0;34m\u001b[0m\u001b[0;34m\u001b[0m\u001b[0m\n\u001b[1;32m   1759\u001b[0m             \u001b[0;32mtry\u001b[0m\u001b[0;34m:\u001b[0m\u001b[0;34m\u001b[0m\u001b[0;34m\u001b[0m\u001b[0m\n",
            "\u001b[0;32m/usr/local/lib/python3.8/dist-packages/pymongo/mongo_client.py\u001b[0m in \u001b[0;36m_ensure_session\u001b[0;34m(self, session)\u001b[0m\n\u001b[1;32m   1738\u001b[0m             \u001b[0;31m# Don't make implicit sessions causally consistent. Applications\u001b[0m\u001b[0;34m\u001b[0m\u001b[0;34m\u001b[0m\u001b[0;34m\u001b[0m\u001b[0m\n\u001b[1;32m   1739\u001b[0m             \u001b[0;31m# should always opt-in.\u001b[0m\u001b[0;34m\u001b[0m\u001b[0;34m\u001b[0m\u001b[0;34m\u001b[0m\u001b[0m\n\u001b[0;32m-> 1740\u001b[0;31m             \u001b[0;32mreturn\u001b[0m \u001b[0mself\u001b[0m\u001b[0;34m.\u001b[0m\u001b[0m__start_session\u001b[0m\u001b[0;34m(\u001b[0m\u001b[0;32mTrue\u001b[0m\u001b[0;34m,\u001b[0m \u001b[0mcausal_consistency\u001b[0m\u001b[0;34m=\u001b[0m\u001b[0;32mFalse\u001b[0m\u001b[0;34m)\u001b[0m\u001b[0;34m\u001b[0m\u001b[0;34m\u001b[0m\u001b[0m\n\u001b[0m\u001b[1;32m   1741\u001b[0m         \u001b[0;32mexcept\u001b[0m \u001b[0;34m(\u001b[0m\u001b[0mConfigurationError\u001b[0m\u001b[0;34m,\u001b[0m \u001b[0mInvalidOperation\u001b[0m\u001b[0;34m)\u001b[0m\u001b[0;34m:\u001b[0m\u001b[0;34m\u001b[0m\u001b[0;34m\u001b[0m\u001b[0m\n\u001b[1;32m   1742\u001b[0m             \u001b[0;31m# Sessions not supported.\u001b[0m\u001b[0;34m\u001b[0m\u001b[0;34m\u001b[0m\u001b[0;34m\u001b[0m\u001b[0m\n",
            "\u001b[0;32m/usr/local/lib/python3.8/dist-packages/pymongo/mongo_client.py\u001b[0m in \u001b[0;36m__start_session\u001b[0;34m(self, implicit, **kwargs)\u001b[0m\n\u001b[1;32m   1683\u001b[0m         \u001b[0;31m# Raises ConfigurationError if sessions are not supported.\u001b[0m\u001b[0;34m\u001b[0m\u001b[0;34m\u001b[0m\u001b[0;34m\u001b[0m\u001b[0m\n\u001b[1;32m   1684\u001b[0m         \u001b[0;32mif\u001b[0m \u001b[0mimplicit\u001b[0m\u001b[0;34m:\u001b[0m\u001b[0;34m\u001b[0m\u001b[0;34m\u001b[0m\u001b[0m\n\u001b[0;32m-> 1685\u001b[0;31m             \u001b[0mself\u001b[0m\u001b[0;34m.\u001b[0m\u001b[0m_topology\u001b[0m\u001b[0;34m.\u001b[0m\u001b[0m_check_implicit_session_support\u001b[0m\u001b[0;34m(\u001b[0m\u001b[0;34m)\u001b[0m\u001b[0;34m\u001b[0m\u001b[0;34m\u001b[0m\u001b[0m\n\u001b[0m\u001b[1;32m   1686\u001b[0m             \u001b[0mserver_session\u001b[0m \u001b[0;34m=\u001b[0m \u001b[0m_EmptyServerSession\u001b[0m\u001b[0;34m(\u001b[0m\u001b[0;34m)\u001b[0m\u001b[0;34m\u001b[0m\u001b[0;34m\u001b[0m\u001b[0m\n\u001b[1;32m   1687\u001b[0m         \u001b[0;32melse\u001b[0m\u001b[0;34m:\u001b[0m\u001b[0;34m\u001b[0m\u001b[0;34m\u001b[0m\u001b[0m\n",
            "\u001b[0;32m/usr/local/lib/python3.8/dist-packages/pymongo/topology.py\u001b[0m in \u001b[0;36m_check_implicit_session_support\u001b[0;34m(self)\u001b[0m\n\u001b[1;32m    536\u001b[0m     \u001b[0;32mdef\u001b[0m \u001b[0m_check_implicit_session_support\u001b[0m\u001b[0;34m(\u001b[0m\u001b[0mself\u001b[0m\u001b[0;34m)\u001b[0m\u001b[0;34m:\u001b[0m\u001b[0;34m\u001b[0m\u001b[0;34m\u001b[0m\u001b[0m\n\u001b[1;32m    537\u001b[0m         \u001b[0;32mwith\u001b[0m \u001b[0mself\u001b[0m\u001b[0;34m.\u001b[0m\u001b[0m_lock\u001b[0m\u001b[0;34m:\u001b[0m\u001b[0;34m\u001b[0m\u001b[0;34m\u001b[0m\u001b[0m\n\u001b[0;32m--> 538\u001b[0;31m             \u001b[0mself\u001b[0m\u001b[0;34m.\u001b[0m\u001b[0m_check_session_support\u001b[0m\u001b[0;34m(\u001b[0m\u001b[0;34m)\u001b[0m\u001b[0;34m\u001b[0m\u001b[0;34m\u001b[0m\u001b[0m\n\u001b[0m\u001b[1;32m    539\u001b[0m \u001b[0;34m\u001b[0m\u001b[0m\n\u001b[1;32m    540\u001b[0m     \u001b[0;32mdef\u001b[0m \u001b[0m_check_session_support\u001b[0m\u001b[0;34m(\u001b[0m\u001b[0mself\u001b[0m\u001b[0;34m)\u001b[0m\u001b[0;34m:\u001b[0m\u001b[0;34m\u001b[0m\u001b[0;34m\u001b[0m\u001b[0m\n",
            "\u001b[0;32m/usr/local/lib/python3.8/dist-packages/pymongo/topology.py\u001b[0m in \u001b[0;36m_check_session_support\u001b[0;34m(self)\u001b[0m\n\u001b[1;32m    552\u001b[0m                     )\n\u001b[1;32m    553\u001b[0m             \u001b[0;32melif\u001b[0m \u001b[0;32mnot\u001b[0m \u001b[0mself\u001b[0m\u001b[0;34m.\u001b[0m\u001b[0m_description\u001b[0m\u001b[0;34m.\u001b[0m\u001b[0mreadable_servers\u001b[0m\u001b[0;34m:\u001b[0m\u001b[0;34m\u001b[0m\u001b[0;34m\u001b[0m\u001b[0m\n\u001b[0;32m--> 554\u001b[0;31m                 self._select_servers_loop(\n\u001b[0m\u001b[1;32m    555\u001b[0m                     \u001b[0mreadable_server_selector\u001b[0m\u001b[0;34m,\u001b[0m \u001b[0mself\u001b[0m\u001b[0;34m.\u001b[0m\u001b[0mget_server_selection_timeout\u001b[0m\u001b[0;34m(\u001b[0m\u001b[0;34m)\u001b[0m\u001b[0;34m,\u001b[0m \u001b[0;32mNone\u001b[0m\u001b[0;34m\u001b[0m\u001b[0;34m\u001b[0m\u001b[0m\n\u001b[1;32m    556\u001b[0m                 )\n",
            "\u001b[0;32m/usr/local/lib/python3.8/dist-packages/pymongo/topology.py\u001b[0m in \u001b[0;36m_select_servers_loop\u001b[0;34m(self, selector, timeout, address)\u001b[0m\n\u001b[1;32m    236\u001b[0m             \u001b[0;31m# No suitable servers.\u001b[0m\u001b[0;34m\u001b[0m\u001b[0;34m\u001b[0m\u001b[0;34m\u001b[0m\u001b[0m\n\u001b[1;32m    237\u001b[0m             \u001b[0;32mif\u001b[0m \u001b[0mtimeout\u001b[0m \u001b[0;34m==\u001b[0m \u001b[0;36m0\u001b[0m \u001b[0;32mor\u001b[0m \u001b[0mnow\u001b[0m \u001b[0;34m>\u001b[0m \u001b[0mend_time\u001b[0m\u001b[0;34m:\u001b[0m\u001b[0;34m\u001b[0m\u001b[0;34m\u001b[0m\u001b[0m\n\u001b[0;32m--> 238\u001b[0;31m                 raise ServerSelectionTimeoutError(\n\u001b[0m\u001b[1;32m    239\u001b[0m                     \u001b[0;34m\"%s, Timeout: %ss, Topology Description: %r\"\u001b[0m\u001b[0;34m\u001b[0m\u001b[0;34m\u001b[0m\u001b[0m\n\u001b[1;32m    240\u001b[0m                     \u001b[0;34m%\u001b[0m \u001b[0;34m(\u001b[0m\u001b[0mself\u001b[0m\u001b[0;34m.\u001b[0m\u001b[0m_error_message\u001b[0m\u001b[0;34m(\u001b[0m\u001b[0mselector\u001b[0m\u001b[0;34m)\u001b[0m\u001b[0;34m,\u001b[0m \u001b[0mtimeout\u001b[0m\u001b[0;34m,\u001b[0m \u001b[0mself\u001b[0m\u001b[0;34m.\u001b[0m\u001b[0mdescription\u001b[0m\u001b[0;34m)\u001b[0m\u001b[0;34m\u001b[0m\u001b[0;34m\u001b[0m\u001b[0m\n",
            "\u001b[0;31mServerSelectionTimeoutError\u001b[0m: localhost:27017: [Errno 111] Connection refused, Timeout: 30s, Topology Description: <TopologyDescription id: 63aaa9cd0316e3974abe2ec3, topology_type: Unknown, servers: [<ServerDescription ('localhost', 27017) server_type: Unknown, rtt: None, error=AutoReconnect('localhost:27017: [Errno 111] Connection refused')>]>"
          ]
        }
      ]
    },
    {
      "cell_type": "code",
      "source": [
        "\n",
        "preprocess_model = pickle.load(open('preprocess_model.pkl','rb'))"
      ],
      "metadata": {
        "id": "42gqSpvSroiT"
      },
      "execution_count": null,
      "outputs": []
    },
    {
      "cell_type": "code",
      "source": [
        "X_train = preprocess_model[0]\n",
        "y_train = preprocess_model[1]\n",
        "X_test = preprocess_model[2]\n",
        "y_test = preprocess_model[3]"
      ],
      "metadata": {
        "id": "7pd6vei4r1jT"
      },
      "execution_count": null,
      "outputs": []
    },
    {
      "cell_type": "code",
      "source": [
        "X_train =pd.DataFrame(X_train)\n",
        "X_test =pd.DataFrame(X_test)\n",
        "X_train.columns=['Global_active_power', 'Global_reactive_power', 'Voltage','Global_intensity', 'month', 'Sub_metering']\n",
        "X_test.columns=['Global_active_power', 'Global_reactive_power', 'Voltage','Global_intensity', 'month','Sub_metering']\n",
        "\n"
      ],
      "metadata": {
        "id": "gSvj8dMdr1mV"
      },
      "execution_count": null,
      "outputs": []
    },
    {
      "cell_type": "code",
      "source": [
        "#  VIF Check To check multicollinearty\n",
        "\n",
        "\n",
        "X_train2 = X_train.copy()\n",
        "X_train= pd.DataFrame(X_train)"
      ],
      "metadata": {
        "id": "oiVsrp1Ir1o9"
      },
      "execution_count": null,
      "outputs": []
    },
    {
      "cell_type": "code",
      "source": [
        "X_train"
      ],
      "metadata": {
        "id": "PQcLY3Lgr1rq"
      },
      "execution_count": null,
      "outputs": []
    },
    {
      "cell_type": "code",
      "source": [
        "from statsmodels.stats.outliers_influence import variance_inflation_factor\n",
        "vif = [variance_inflation_factor(X_train.values, i) for i in range(X_train.shape[1])]\n",
        "print(X_train.columns)\n",
        "print(vif)"
      ],
      "metadata": {
        "id": "hdY3Adu1r1up"
      },
      "execution_count": null,
      "outputs": []
    },
    {
      "cell_type": "code",
      "source": [
        "while (max(vif) > 5):    \n",
        "    indx = vif.index(max(vif)) #Get the index of variable with highest VIF\n",
        "    print(indx)\n",
        "    X_train.drop(X_train.columns[indx],axis = 1, inplace = True)\n",
        "    vif = [variance_inflation_factor(X_train.values, i) for i in range(X_train.shape[1])]\n",
        "vif = [variance_inflation_factor(X_train.values, i) for i in range(X_train.shape[1])]\n",
        "print(X_train.columns)\n",
        "print(vif)"
      ],
      "metadata": {
        "id": "FGlwitPmr1xe"
      },
      "execution_count": null,
      "outputs": []
    },
    {
      "cell_type": "code",
      "source": [
        "X_test = pd.DataFrame(X_test)\n",
        "X_test = X_test[X_train.columns]"
      ],
      "metadata": {
        "id": "2Iv9MOLmr10k"
      },
      "execution_count": null,
      "outputs": []
    },
    {
      "cell_type": "code",
      "source": [
        "from sklearn.compose import ColumnTransformer\n",
        "from sklearn.pipeline import Pipeline\n",
        "from sklearn.metrics import r2_score,mean_absolute_error,mean_squared_error\n",
        "from sklearn.tree import DecisionTreeRegressor\n",
        "from sklearn.tree import ExtraTreeRegressor\n",
        "from sklearn.model_selection import GridSearchCV"
      ],
      "metadata": {
        "id": "MLinbePZr13W"
      },
      "execution_count": null,
      "outputs": []
    },
    {
      "cell_type": "code",
      "source": [
        "parameters = {\"splitter\":[\"best\",\"random\"],\n",
        "\"max_depth\" : [1,3,5,7,9,11,12],\n",
        "\"min_samples_leaf\":[1,2,3,4,5,6,7,8,9,10],\n",
        "\"min_weight_fraction_leaf\":[0.1,0.2,0.3,0.4,0.5],\n",
        "\"max_features\":[\"auto\",\"log2\",\"sqrt\",None],\n",
        "\"max_leaf_nodes\":[None,10,20,30,40,50,60,70,80,90]"
      ],
      "metadata": {
        "id": "yr1oYoh7r16k"
      },
      "execution_count": null,
      "outputs": []
    },
    {
      "cell_type": "code",
      "source": [
        "## We will train that models\n",
        "models = {1: DecisionTreeRegressor(random_state=0),\n",
        "          2: ExtraTreeRegressor(random_state=0),\n",
        "          3: GridSearchCV(DecisionTreeRegressor(random_state=42), param_grid=parameters,verbose=1, cv=3),\n",
        "          4: GridSearchCV(ExtraTreeRegressor(random_state=42), param_grid=parameters,verbose=1, cv=3)\n",
        "}"
      ],
      "metadata": {
        "id": "zmtm2jRErUCD"
      },
      "execution_count": null,
      "outputs": []
    },
    {
      "cell_type": "code",
      "source": [
        "map_keys = list(models.keys())"
      ],
      "metadata": {
        "id": "ksBFCe0_sVw-"
      },
      "execution_count": null,
      "outputs": []
    },
    {
      "cell_type": "code",
      "source": [
        "# Get model name using id from linear_model_collection\n",
        "def get_model_building_technique_name(num):\n",
        "    if num == 1:\n",
        "        return 'DecisionTreeRegressor()'\n",
        "    if num == 2:\n",
        "        return 'ExtraTreeRegressor()'\n",
        "    if num == 3:\n",
        "        return \"GridSearchCV()_DTR\"\n",
        "    if num == 4:\n",
        "        return \"GridSearchCV()_ETR\"\n",
        "        return ''"
      ],
      "metadata": {
        "id": "E97RD19rsVzq"
      },
      "execution_count": null,
      "outputs": []
    },
    {
      "cell_type": "code",
      "source": [
        "results = [];\n",
        "for key_index in range(len(map_keys)):\n",
        "    key = map_keys[key_index]\n",
        "    model = models[key]\n",
        "    print(key_index)\n",
        "    model.fit(X_train, y_train)\n",
        "    \n",
        "    '''Test Accuracy'''\n",
        "    y_pred = model.predict(pd.DataFrame(X_test))\n",
        "    R_Squared_Test = r2_score(y_test,y_pred)\n",
        "    Adjusted_R_Squared_Test = (1 - (1-R_Squared_Test)*(len(y_test)-1)/(len(y_test)-X_test.shape[1]-1))\n",
        "\n",
        "    '''Train Accuracy'''\n",
        "    y_pred_train = model.predict(X_train)\n",
        "    R_Squared_Train = r2_score(y_train,y_pred_train)\n",
        "    Adjusted_R_Squared_Train = (1 - (1-R_Squared_Train)*(len(y_train)-1)/(len(y_train)-X_test.shape[1]-1))\n",
        "    results.append({'Model Name' : get_model_building_technique_name(key),\n",
        "                    'Trained Model' : model,\n",
        "                    'R_Squared_Test' : R_Squared_Test,\n",
        "                    'Adjusted_R_Squared_Test' : Adjusted_R_Squared_Test,\n",
        "                    'R_Squared_Train' : R_Squared_Train,\n",
        "                    'Adjusted_R_Squared_Train' : Adjusted_R_Squared_Train\n",
        "    })"
      ],
      "metadata": {
        "id": "1B823m58sV2t"
      },
      "execution_count": null,
      "outputs": []
    },
    {
      "cell_type": "code",
      "source": [
        "#Train and Test Accuracy\n",
        "print(results)"
      ],
      "metadata": {
        "id": "66IR3KpAsV5j"
      },
      "execution_count": null,
      "outputs": []
    },
    {
      "cell_type": "code",
      "source": [],
      "metadata": {
        "id": "BWnCdrWCsV9E"
      },
      "execution_count": null,
      "outputs": []
    }
  ]
}